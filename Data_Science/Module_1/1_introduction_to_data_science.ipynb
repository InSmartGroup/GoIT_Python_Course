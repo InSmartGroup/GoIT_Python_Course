{
 "cells": [
  {
   "cell_type": "markdown",
   "source": [
    "# Data Science Process\n",
    "\n",
    "The data science (DS) process consists of 5 main steps:\n",
    "1. **Obtain**. It's basically the process of gathering the required data. It can be any kind of data: text, images, audio, HTML, etc. Consequently, this data can be of any format, e.g. csv, jpeg, json, html, etc.\n",
    "2. **Scrub**. We should then check our dataset for errors, blanks, duplicates, etc., and clean it.  "
   ],
   "metadata": {
    "collapsed": false
   },
   "id": "93540e44f0c7f085"
  },
  {
   "cell_type": "code",
   "outputs": [],
   "source": [
    "import numpy as np\n",
    "\n",
    "np.random.seed(42)"
   ],
   "metadata": {
    "collapsed": false,
    "ExecuteTime": {
     "end_time": "2024-02-12T13:46:19.354009200Z",
     "start_time": "2024-02-12T13:46:18.306672400Z"
    }
   },
   "id": "3ce1c34887eaa594",
   "execution_count": 1
  },
  {
   "cell_type": "markdown",
   "source": [
    "Linear algebra works with scalars, vectors, and matrices.\n",
    "Let's see each of these below."
   ],
   "metadata": {
    "collapsed": false
   },
   "id": "6f1d256eb7e9eba3"
  },
  {
   "cell_type": "code",
   "outputs": [
    {
     "name": "stdout",
     "output_type": "stream",
     "text": [
      "5\n",
      "0\n"
     ]
    }
   ],
   "source": [
    "# a scalar is a 1-dimensional point\n",
    "scalar = np.array(5)\n",
    "\n",
    "print(scalar)\n",
    "print(scalar.ndim)"
   ],
   "metadata": {
    "collapsed": false,
    "ExecuteTime": {
     "end_time": "2024-02-12T13:46:19.411444300Z",
     "start_time": "2024-02-12T13:46:19.360080100Z"
    }
   },
   "id": "a265306a27f08eaa",
   "execution_count": 2
  },
  {
   "cell_type": "code",
   "outputs": [
    {
     "name": "stdout",
     "output_type": "stream",
     "text": [
      "[1 2 3 4 5]\n",
      "1\n"
     ]
    }
   ],
   "source": [
    "# a vector is a 1-dimensional line\n",
    "vector = np.arange(1, 6)\n",
    "\n",
    "print(vector)\n",
    "print(vector.ndim)"
   ],
   "metadata": {
    "collapsed": false,
    "ExecuteTime": {
     "end_time": "2024-02-12T13:46:19.441113300Z",
     "start_time": "2024-02-12T13:46:19.399151200Z"
    }
   },
   "id": "932e1e819bc3cb46",
   "execution_count": 3
  },
  {
   "cell_type": "code",
   "outputs": [
    {
     "name": "stdout",
     "output_type": "stream",
     "text": [
      "[[ 7  4  8]\n",
      " [ 5  7 10]\n",
      " [ 3  7  8]]\n",
      "2\n"
     ]
    }
   ],
   "source": [
    "# a matrix is a 2-dimensional array\n",
    "matrix = np.random.randint(1, 11, 9).reshape((3, 3)).astype(np.int8)\n",
    "\n",
    "print(matrix)\n",
    "print(matrix.ndim)"
   ],
   "metadata": {
    "collapsed": false,
    "ExecuteTime": {
     "end_time": "2024-02-12T13:46:19.458976400Z",
     "start_time": "2024-02-12T13:46:19.436059800Z"
    }
   },
   "id": "d3546c01e0f4f2d5",
   "execution_count": 4
  },
  {
   "cell_type": "code",
   "outputs": [
    {
     "name": "stdout",
     "output_type": "stream",
     "text": [
      "[[[[ 5  4  8]\n",
      "   [ 8  3  6]\n",
      "   [ 5  2  8]]\n",
      "\n",
      "  [[ 6  2  5]\n",
      "   [ 1 10  6]\n",
      "   [ 9  1 10]]\n",
      "\n",
      "  [[ 3  7  4]\n",
      "   [ 9  3  5]\n",
      "   [ 3  7  5]]\n",
      "\n",
      "  [[ 9  7  2]\n",
      "   [ 4  9  2]\n",
      "   [10  9 10]]]\n",
      "\n",
      "\n",
      " [[[ 5  2  4]\n",
      "   [ 7  8  3]\n",
      "   [ 1  4  2]]\n",
      "\n",
      "  [[ 8  4  2]\n",
      "   [ 6  6 10]\n",
      "   [ 4  6  2]]\n",
      "\n",
      "  [[10  2 10]\n",
      "   [ 4  8  7]\n",
      "   [ 9  8  5]]\n",
      "\n",
      "  [[ 2  5  8]\n",
      "   [10  9  9]\n",
      "   [ 1  9  7]]]\n",
      "\n",
      "\n",
      " [[[ 9  8  1]\n",
      "   [ 8  8  3]\n",
      "   [ 1  8  3]]\n",
      "\n",
      "  [[ 3  1  5]\n",
      "   [10  7 10]\n",
      "   [ 9  7  9]]\n",
      "\n",
      "  [[ 8  2  1]\n",
      "   [ 7  7  8]\n",
      "   [ 5  3  8]]\n",
      "\n",
      "  [[ 6  3  1]\n",
      "   [ 3  5  3]\n",
      "   [ 1  5 10]]]\n",
      "\n",
      "\n",
      " [[[ 7  7  9]\n",
      "   [10 10  3]\n",
      "   [ 7  1  4]]\n",
      "\n",
      "  [[ 4  5  7]\n",
      "   [ 7  4  7]\n",
      "   [ 3  6  2]]\n",
      "\n",
      "  [[10  9  5]\n",
      "   [ 6  4 10]\n",
      "   [ 7  9  7]]\n",
      "\n",
      "  [[ 1  1  9]\n",
      "   [ 9  4  9]\n",
      "   [ 3  7  6]]]]\n",
      "4\n"
     ]
    }
   ],
   "source": [
    "# it's also possible to have a 3, 4, more dimensional matrices\n",
    "matrix = np.random.randint(1, 11, 9 * 4 * 4).reshape(4, 4, 3, 3)  # it's a 4-dimensional matrix\n",
    "\n",
    "print(matrix)\n",
    "print(matrix.ndim)"
   ],
   "metadata": {
    "collapsed": false,
    "ExecuteTime": {
     "end_time": "2024-02-12T13:46:19.510368500Z",
     "start_time": "2024-02-12T13:46:19.460326800Z"
    }
   },
   "id": "66d840475f8f0b0c",
   "execution_count": 5
  },
  {
   "cell_type": "markdown",
   "source": [
    "### Operations on Scalars and Vectors"
   ],
   "metadata": {
    "collapsed": false
   },
   "id": "1ccb3e528d57654e"
  },
  {
   "cell_type": "code",
   "outputs": [
    {
     "name": "stdout",
     "output_type": "stream",
     "text": [
      "Scalar: 5\n",
      "Vector: [ 1  2  3  4  5  6  7  8  9 10]\n",
      "Adding a scalar to a vector: [ 6  7  8  9 10 11 12 13 14 15]\n"
     ]
    }
   ],
   "source": [
    "# we can add scalars and vectors\n",
    "scalar = np.array(5)\n",
    "vector = np.arange(1, 11)\n",
    "\n",
    "print(f\"Scalar: {scalar}\")\n",
    "print(f\"Vector: {vector}\")\n",
    "print(f\"Adding a scalar to a vector: {scalar + vector}\")"
   ],
   "metadata": {
    "collapsed": false,
    "ExecuteTime": {
     "end_time": "2024-02-12T13:46:19.512453200Z",
     "start_time": "2024-02-12T13:46:19.476665200Z"
    }
   },
   "id": "43ccedaed545f65b",
   "execution_count": 6
  },
  {
   "cell_type": "code",
   "outputs": [
    {
     "name": "stdout",
     "output_type": "stream",
     "text": [
      "Subtracting scalars from vectors: [-4 -3 -2 -1  0  1  2  3  4  5]\n",
      "Subtracting vectors from scalars: [ 4  3  2  1  0 -1 -2 -3 -4 -5]\n"
     ]
    }
   ],
   "source": [
    "# we can also subtract scalars from vectors\n",
    "print(f\"Subtracting scalars from vectors: {vector - scalar}\")\n",
    "print(f\"Subtracting vectors from scalars: {scalar - vector}\")"
   ],
   "metadata": {
    "collapsed": false,
    "ExecuteTime": {
     "end_time": "2024-02-12T13:46:19.589022800Z",
     "start_time": "2024-02-12T13:46:19.493135100Z"
    }
   },
   "id": "5a11e0dfe46d5403",
   "execution_count": 7
  },
  {
   "cell_type": "code",
   "outputs": [
    {
     "name": "stdout",
     "output_type": "stream",
     "text": [
      "Scalar multiplied by vector: [ 5 10 15 20 25 30 35 40 45 50]\n",
      "Scalar divided by vector: [5.         2.5        1.66666667 1.25       1.         0.83333333\n",
      " 0.71428571 0.625      0.55555556 0.5       ]\n",
      "Vector divided by scalar: [0.2 0.4 0.6 0.8 1.  1.2 1.4 1.6 1.8 2. ]\n"
     ]
    }
   ],
   "source": [
    "# we can also multiply and divide them\n",
    "print(f\"Scalar multiplied by vector: {scalar * vector}\")\n",
    "print(f\"Scalar divided by vector: {scalar / vector}\")\n",
    "print(f\"Vector divided by scalar: {vector / scalar}\")"
   ],
   "metadata": {
    "collapsed": false,
    "ExecuteTime": {
     "end_time": "2024-02-12T13:46:19.591263800Z",
     "start_time": "2024-02-12T13:46:19.510368500Z"
    }
   },
   "id": "170a2fd818ce2cd",
   "execution_count": 8
  },
  {
   "cell_type": "code",
   "outputs": [
    {
     "name": "stdout",
     "output_type": "stream",
     "text": [
      "Vector addition: [32 34 36 38 40 42 44 46 48 50]\n",
      "Vector subtraction: [-30 -30 -30 -30 -30 -30 -30 -30 -30 -30]\n",
      "Vector multiplication: [ 31  64  99 136 175 216 259 304 351 400]\n",
      "Vector division: [0.03225806 0.0625     0.09090909 0.11764706 0.14285714 0.16666667\n",
      " 0.18918919 0.21052632 0.23076923 0.25      ]\n"
     ]
    }
   ],
   "source": [
    "# we can also perform the same math operations between two or more scalars and vectors\n",
    "vector1 = np.arange(1, 11)\n",
    "vector2 = np.arange(31, 41)\n",
    "\n",
    "print(f\"Vector addition: {vector1 + vector2}\")\n",
    "print(f\"Vector subtraction: {vector1 - vector2}\")\n",
    "print(f\"Vector multiplication: {vector1 * vector2}\")\n",
    "print(f\"Vector division: {vector1 / vector2}\")"
   ],
   "metadata": {
    "collapsed": false,
    "ExecuteTime": {
     "end_time": "2024-02-12T13:46:19.593377600Z",
     "start_time": "2024-02-12T13:46:19.535347100Z"
    }
   },
   "id": "ea86e669c72a91ef",
   "execution_count": 9
  },
  {
   "cell_type": "markdown",
   "source": [
    "### Dot product\n",
    "\n",
    "A dot product is the sum of all the positional elements in two or more arrays, multiplied one by another."
   ],
   "metadata": {
    "collapsed": false
   },
   "id": "6f726b9116643d7c"
  },
  {
   "cell_type": "code",
   "outputs": [
    {
     "name": "stdout",
     "output_type": "stream",
     "text": [
      "Array 1: [ 1  2  3  4  5  6  7  8  9 10]\n",
      "Array 2: [31 32 33 34 35 36 37 38 39 40]\n",
      "Preliminary dot product of arrays 1 and 2: [ 31  64  99 136 175 216 259 304 351 400]\n",
      "Dot product of arrays 1 and 2: 2035\n"
     ]
    }
   ],
   "source": [
    "array1 = np.arange(1, 11)\n",
    "array2 = np.arange(31, 41)\n",
    "\n",
    "print(f\"Array 1: {array1}\")\n",
    "print(f\"Array 2: {array2}\")\n",
    "print(f\"Preliminary dot product of arrays 1 and 2: {array1 * array2}\")  # the sum of all the elements is 2035\n",
    "print(f\"Dot product of arrays 1 and 2: {np.dot(array1, array2)}\")"
   ],
   "metadata": {
    "collapsed": false,
    "ExecuteTime": {
     "end_time": "2024-02-12T13:46:19.604491200Z",
     "start_time": "2024-02-12T13:46:19.547476900Z"
    }
   },
   "id": "e9d3dc58328d6924",
   "execution_count": 10
  },
  {
   "cell_type": "code",
   "outputs": [],
   "source": [],
   "metadata": {
    "collapsed": false,
    "ExecuteTime": {
     "end_time": "2024-02-12T13:46:19.686792300Z",
     "start_time": "2024-02-12T13:46:19.559943Z"
    }
   },
   "id": "bf434ad2d83c4159",
   "execution_count": 10
  }
 ],
 "metadata": {
  "kernelspec": {
   "display_name": "Python 3",
   "language": "python",
   "name": "python3"
  },
  "language_info": {
   "codemirror_mode": {
    "name": "ipython",
    "version": 2
   },
   "file_extension": ".py",
   "mimetype": "text/x-python",
   "name": "python",
   "nbconvert_exporter": "python",
   "pygments_lexer": "ipython2",
   "version": "2.7.6"
  }
 },
 "nbformat": 4,
 "nbformat_minor": 5
}
