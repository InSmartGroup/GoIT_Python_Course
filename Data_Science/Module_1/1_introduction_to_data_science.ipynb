{
 "cells": [
  {
   "cell_type": "markdown",
   "source": [
    "# Data Science Process\n",
    "\n",
    "The data science (DS) process consists of 5 main steps:\n",
    "1. **Obtain**. It's basically the process of gathering the required data. It can be any kind of data: text, images, audio, HTML, etc. Consequently, this data can be of any format, e.g. csv, jpeg, json, html, etc.\n",
    "2. **Scrub**. We should then check our dataset for errors, blanks, duplicates, etc., and clean it.  "
   ],
   "metadata": {
    "collapsed": false
   },
   "id": "93540e44f0c7f085"
  },
  {
   "cell_type": "code",
   "outputs": [],
   "source": [
    "import numpy as np\n",
    "\n",
    "np.random.seed(42)"
   ],
   "metadata": {
    "collapsed": false,
    "ExecuteTime": {
     "end_time": "2024-01-30T11:02:22.651418Z",
     "start_time": "2024-01-30T11:02:22.358371200Z"
    }
   },
   "id": "3ce1c34887eaa594",
   "execution_count": 1
  },
  {
   "cell_type": "markdown",
   "source": [
    "Linear algebra works with scalars, vectors, and matrices.\n",
    "Let's see each of these below."
   ],
   "metadata": {
    "collapsed": false
   },
   "id": "6f1d256eb7e9eba3"
  },
  {
   "cell_type": "code",
   "outputs": [
    {
     "name": "stdout",
     "output_type": "stream",
     "text": [
      "5\n",
      "0\n"
     ]
    }
   ],
   "source": [
    "# a scalar is a 1-dimensional point\n",
    "scalar = np.array(5)\n",
    "\n",
    "print(scalar)\n",
    "print(scalar.ndim)"
   ],
   "metadata": {
    "collapsed": false,
    "ExecuteTime": {
     "end_time": "2024-01-30T11:06:50.733282900Z",
     "start_time": "2024-01-30T11:06:50.671108900Z"
    }
   },
   "id": "a265306a27f08eaa",
   "execution_count": 6
  },
  {
   "cell_type": "code",
   "outputs": [
    {
     "name": "stdout",
     "output_type": "stream",
     "text": [
      "[1 2 3 4 5]\n",
      "1\n"
     ]
    }
   ],
   "source": [
    "# a vector is a 1-dimensional line\n",
    "vector = np.arange(1, 6)\n",
    "\n",
    "print(vector)\n",
    "print(vector.ndim)"
   ],
   "metadata": {
    "collapsed": false,
    "ExecuteTime": {
     "end_time": "2024-01-30T11:07:04.170204500Z",
     "start_time": "2024-01-30T11:07:04.152305700Z"
    }
   },
   "id": "932e1e819bc3cb46",
   "execution_count": 9
  },
  {
   "cell_type": "code",
   "outputs": [
    {
     "name": "stdout",
     "output_type": "stream",
     "text": [
      "[[3 5 3]\n",
      " [7 5 9]\n",
      " [7 2 4]]\n",
      "2\n"
     ]
    }
   ],
   "source": [
    "# a matrix is a 2-dimensional array\n",
    "matrix = np.random.randint(1, 11, 9).reshape((3, 3)).astype(np.int8)\n",
    "\n",
    "print(matrix)\n",
    "print(matrix.ndim)"
   ],
   "metadata": {
    "collapsed": false,
    "ExecuteTime": {
     "end_time": "2024-01-30T11:09:51.375542200Z",
     "start_time": "2024-01-30T11:09:51.360852800Z"
    }
   },
   "id": "d3546c01e0f4f2d5",
   "execution_count": 18
  },
  {
   "cell_type": "code",
   "outputs": [
    {
     "name": "stdout",
     "output_type": "stream",
     "text": [
      "[[[[ 6  3  8]\n",
      "   [ 9  6  7]\n",
      "   [ 1  5  5]]\n",
      "\n",
      "  [[10  4  6]\n",
      "   [ 7  9  1]\n",
      "   [ 6  7  3]]\n",
      "\n",
      "  [[ 8  5  9]\n",
      "   [ 5  9 10]\n",
      "   [ 4  9  5]]\n",
      "\n",
      "  [[10  9  3]\n",
      "   [ 4  9 10]\n",
      "   [ 6  2  7]]]\n",
      "\n",
      "\n",
      " [[[ 2  2  1]\n",
      "   [ 3  6  8]\n",
      "   [ 9  7  4]]\n",
      "\n",
      "  [[ 6  5  8]\n",
      "   [ 1  1  6]\n",
      "   [10  2  5]]\n",
      "\n",
      "  [[ 1  7  1]\n",
      "   [ 4  9  1]\n",
      "   [ 4  6  6]]\n",
      "\n",
      "  [[ 8  1  7]\n",
      "   [ 1  7  3]\n",
      "   [ 8  3  1]]]\n",
      "\n",
      "\n",
      " [[[ 8  3  2]\n",
      "   [ 1  3  2]\n",
      "   [ 2  6  1]]\n",
      "\n",
      "  [[ 2  6  3]\n",
      "   [ 4  1  8]\n",
      "   [ 7  7  3]]\n",
      "\n",
      "  [[10 10  3]\n",
      "   [ 2  1  7]\n",
      "   [ 7  2  7]]\n",
      "\n",
      "  [[ 8  1  9]\n",
      "   [ 7  3  8]\n",
      "   [ 7  8  6]]]\n",
      "\n",
      "\n",
      " [[[ 9  5  3]\n",
      "   [ 3  1  8]\n",
      "   [ 2  3  8]]\n",
      "\n",
      "  [[ 8  4  4]\n",
      "   [ 5  6  5]\n",
      "   [ 7  2  7]]\n",
      "\n",
      "  [[10  7  1]\n",
      "   [ 7  5  3]\n",
      "   [ 3  4  2]]\n",
      "\n",
      "  [[ 2  1  5]\n",
      "   [ 4 10  2]\n",
      "   [ 3  7  7]]]]\n",
      "4\n"
     ]
    }
   ],
   "source": [
    "# it's also possible to have a 3, 4, more dimensional matrices\n",
    "matrix = np.random.randint(1, 11, 9 * 4 * 4).reshape(4, 4, 3, 3)  # it's a 4-dimensional matrix\n",
    "\n",
    "print(matrix)\n",
    "print(matrix.ndim)"
   ],
   "metadata": {
    "collapsed": false,
    "ExecuteTime": {
     "end_time": "2024-01-30T11:20:14.146132200Z",
     "start_time": "2024-01-30T11:20:14.124790300Z"
    }
   },
   "id": "66d840475f8f0b0c",
   "execution_count": 43
  },
  {
   "cell_type": "markdown",
   "source": [
    "### Operations on Scalars and Vectors"
   ],
   "metadata": {
    "collapsed": false
   },
   "id": "1ccb3e528d57654e"
  },
  {
   "cell_type": "code",
   "outputs": [
    {
     "name": "stdout",
     "output_type": "stream",
     "text": [
      "Scalar: 5\n",
      "Vector: [ 1  2  3  4  5  6  7  8  9 10]\n",
      "Adding a scalar to a vector: [ 6  7  8  9 10 11 12 13 14 15]\n"
     ]
    }
   ],
   "source": [
    "# we can add scalars and vectors\n",
    "scalar = np.array(5)\n",
    "vector = np.arange(1, 11)\n",
    "\n",
    "print(f\"Scalar: {scalar}\")\n",
    "print(f\"Vector: {vector}\")\n",
    "print(f\"Adding a scalar to a vector: {scalar + vector}\")"
   ],
   "metadata": {
    "collapsed": false,
    "ExecuteTime": {
     "end_time": "2024-01-30T11:23:56.413547800Z",
     "start_time": "2024-01-30T11:23:56.388474Z"
    }
   },
   "id": "43ccedaed545f65b",
   "execution_count": 44
  },
  {
   "cell_type": "code",
   "outputs": [
    {
     "name": "stdout",
     "output_type": "stream",
     "text": [
      "Subtracting scalars from vectors: [-4 -3 -2 -1  0  1  2  3  4  5]\n",
      "Subtracting vectors from scalars: [ 4  3  2  1  0 -1 -2 -3 -4 -5]\n"
     ]
    }
   ],
   "source": [
    "# we can also subtract scalars from vectors\n",
    "print(f\"Subtracting scalars from vectors: {vector - scalar}\")\n",
    "print(f\"Subtracting vectors from scalars: {scalar - vector}\")"
   ],
   "metadata": {
    "collapsed": false,
    "ExecuteTime": {
     "end_time": "2024-01-30T11:24:59.878481200Z",
     "start_time": "2024-01-30T11:24:59.859549800Z"
    }
   },
   "id": "5a11e0dfe46d5403",
   "execution_count": 45
  },
  {
   "cell_type": "code",
   "outputs": [
    {
     "name": "stdout",
     "output_type": "stream",
     "text": [
      "Scalar multiplied by vector: [ 5 10 15 20 25 30 35 40 45 50]\n",
      "Scalar divided by vector: [5.         2.5        1.66666667 1.25       1.         0.83333333\n",
      " 0.71428571 0.625      0.55555556 0.5       ]\n",
      "Vector divided by scalar: [0.2 0.4 0.6 0.8 1.  1.2 1.4 1.6 1.8 2. ]\n"
     ]
    }
   ],
   "source": [
    "# we can also multiply and divide them\n",
    "print(f\"Scalar multiplied by vector: {scalar * vector}\")\n",
    "print(f\"Scalar divided by vector: {scalar / vector}\")\n",
    "print(f\"Vector divided by scalar: {vector / scalar}\")"
   ],
   "metadata": {
    "collapsed": false,
    "ExecuteTime": {
     "end_time": "2024-01-30T11:26:32.171454700Z",
     "start_time": "2024-01-30T11:26:32.159555200Z"
    }
   },
   "id": "170a2fd818ce2cd",
   "execution_count": 47
  },
  {
   "cell_type": "code",
   "outputs": [
    {
     "name": "stdout",
     "output_type": "stream",
     "text": [
      "Vector addition: [32 34 36 38 40 42 44 46 48 50]\n",
      "Vector subtraction: [-30 -30 -30 -30 -30 -30 -30 -30 -30 -30]\n",
      "Vector multiplication: [ 31  64  99 136 175 216 259 304 351 400]\n",
      "Vector division: [0.03225806 0.0625     0.09090909 0.11764706 0.14285714 0.16666667\n",
      " 0.18918919 0.21052632 0.23076923 0.25      ]\n"
     ]
    }
   ],
   "source": [
    "# we can also perform the same math operations between two or more scalars and vectors\n",
    "vector1 = np.arange(1, 11)\n",
    "vector2 = np.arange(31, 41)\n",
    "\n",
    "print(f\"Vector addition: {vector1 + vector2}\")\n",
    "print(f\"Vector subtraction: {vector1 - vector2}\")\n",
    "print(f\"Vector multiplication: {vector1 * vector2}\")\n",
    "print(f\"Vector division: {vector1 / vector2}\")"
   ],
   "metadata": {
    "collapsed": false,
    "ExecuteTime": {
     "end_time": "2024-01-30T11:29:05.485665600Z",
     "start_time": "2024-01-30T11:29:05.466820200Z"
    }
   },
   "id": "ea86e669c72a91ef",
   "execution_count": 48
  },
  {
   "cell_type": "markdown",
   "source": [
    "### Dot product\n",
    "\n",
    "A dot product is the sum of all the positional elements in the array, multiplied one by another."
   ],
   "metadata": {
    "collapsed": false
   },
   "id": "6f726b9116643d7c"
  },
  {
   "cell_type": "code",
   "outputs": [
    {
     "name": "stdout",
     "output_type": "stream",
     "text": [
      "Array 1: [ 1  2  3  4  5  6  7  8  9 10]\n",
      "Array 2: [31 32 33 34 35 36 37 38 39 40]\n",
      "Preliminary dot product of arrays 1 and 2: [ 31  64  99 136 175 216 259 304 351 400]\n",
      "Dot product of arrays 1 and 2: 2035\n"
     ]
    }
   ],
   "source": [
    "array1 = np.arange(1, 11)\n",
    "array2 = np.arange(31, 41)\n",
    "\n",
    "print(f\"Array 1: {array1}\")\n",
    "print(f\"Array 2: {array2}\")\n",
    "print(f\"Preliminary dot product of arrays 1 and 2: {array1 * array2}\")  # the sum of all the elements is 2035\n",
    "print(f\"Dot product of arrays 1 and 2: {np.dot(array1, array2)}\")"
   ],
   "metadata": {
    "collapsed": false,
    "ExecuteTime": {
     "end_time": "2024-01-30T11:33:12.915605300Z",
     "start_time": "2024-01-30T11:33:12.901096100Z"
    }
   },
   "id": "e9d3dc58328d6924",
   "execution_count": 53
  },
  {
   "cell_type": "code",
   "outputs": [],
   "source": [],
   "metadata": {
    "collapsed": false
   },
   "id": "bf434ad2d83c4159"
  }
 ],
 "metadata": {
  "kernelspec": {
   "display_name": "Python 3",
   "language": "python",
   "name": "python3"
  },
  "language_info": {
   "codemirror_mode": {
    "name": "ipython",
    "version": 2
   },
   "file_extension": ".py",
   "mimetype": "text/x-python",
   "name": "python",
   "nbconvert_exporter": "python",
   "pygments_lexer": "ipython2",
   "version": "2.7.6"
  }
 },
 "nbformat": 4,
 "nbformat_minor": 5
}
