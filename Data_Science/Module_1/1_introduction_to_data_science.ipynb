{
 "cells": [
  {
   "cell_type": "markdown",
   "source": [
    "# Data Science Process\n",
    "\n",
    "The data science (DS) process consists of 5 main steps:\n",
    "1. **Obtain**. It's basically the process of gathering the required data. It can be any kind of data: text, images, audio, HTML, etc. Consequently, this data can be of any format, e.g. csv, jpeg, json, html, etc.\n",
    "2. **Scrub**. We should then check our dataset for errors, blanks, duplicates, etc., and clean it.  "
   ],
   "metadata": {
    "collapsed": false
   },
   "id": "93540e44f0c7f085"
  }
 ],
 "metadata": {
  "kernelspec": {
   "display_name": "Python 3",
   "language": "python",
   "name": "python3"
  },
  "language_info": {
   "codemirror_mode": {
    "name": "ipython",
    "version": 2
   },
   "file_extension": ".py",
   "mimetype": "text/x-python",
   "name": "python",
   "nbconvert_exporter": "python",
   "pygments_lexer": "ipython2",
   "version": "2.7.6"
  }
 },
 "nbformat": 4,
 "nbformat_minor": 5
}
