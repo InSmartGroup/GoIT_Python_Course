{
 "cells": [
  {
   "cell_type": "markdown",
   "source": [
    "# The Pandas Library"
   ],
   "metadata": {
    "collapsed": false
   },
   "id": "ac2667e10dd3b132"
  },
  {
   "cell_type": "markdown",
   "source": [
    "Pandas is a powerful framework for data manipulation and analysis. Unlike Numpy, Pandas' Series and DataFrames can store any types of data.\n",
    "Let's start by importing the Pandas library first, and then take a look at the Series. "
   ],
   "metadata": {
    "collapsed": false
   },
   "id": "f250e9a48ae349dd"
  },
  {
   "cell_type": "code",
   "outputs": [],
   "source": [
    "import numpy as np\n",
    "import pandas as pd"
   ],
   "metadata": {
    "collapsed": false,
    "ExecuteTime": {
     "end_time": "2024-03-10T13:57:00.883577Z",
     "start_time": "2024-03-10T13:57:00.877685Z"
    }
   },
   "id": "43a059c69fe9bad0",
   "execution_count": 63
  },
  {
   "cell_type": "markdown",
   "source": [
    "## Series"
   ],
   "metadata": {
    "collapsed": false
   },
   "id": "d29d07807d509c5c"
  },
  {
   "cell_type": "code",
   "outputs": [
    {
     "name": "stdout",
     "output_type": "stream",
     "text": [
      "0    1947\n",
      "1    1986\n",
      "2    2013\n",
      "3    2022\n",
      "4    2024\n",
      "dtype: int64\n"
     ]
    }
   ],
   "source": [
    "# a Series is basically a 1-dimensional array (a column). Let's create one.\n",
    "ages = pd.Series([1947, 1986, 2013, 2022, 2024])\n",
    "\n",
    "print(ages)"
   ],
   "metadata": {
    "collapsed": false,
    "ExecuteTime": {
     "end_time": "2024-03-10T13:22:23.976818Z",
     "start_time": "2024-03-10T13:22:23.963859Z"
    }
   },
   "id": "39c7635f85ae00aa",
   "execution_count": 2
  },
  {
   "cell_type": "code",
   "outputs": [
    {
     "name": "stdout",
     "output_type": "stream",
     "text": [
      "Father      1947\n",
      "Mother      1947\n",
      "Me          1986\n",
      "Wife        1986\n",
      "Daughter    2013\n",
      "War         2022\n",
      "Nowadays    2024\n",
      "Name: Important years, dtype: int64\n"
     ]
    }
   ],
   "source": [
    "# we can assign names and data types\n",
    "ages = pd.Series(data=[1947, 1947, 1986, 1986, 2013, 2022, 2024],\n",
    "                 index=[\"Father\", \"Mother\", \"Me\", \"Wife\", \"Daughter\", \"War\", \"Nowadays\"],\n",
    "                 name=\"Important years\",\n",
    "                 dtype=np.int64)\n",
    "\n",
    "print(ages)"
   ],
   "metadata": {
    "collapsed": false,
    "ExecuteTime": {
     "end_time": "2024-03-10T13:22:24.002267Z",
     "start_time": "2024-03-10T13:22:23.979833Z"
    }
   },
   "id": "916d4813777bc9a3",
   "execution_count": 3
  },
  {
   "cell_type": "markdown",
   "source": [
    "### Accessing elements"
   ],
   "metadata": {
    "collapsed": false
   },
   "id": "d31fa1b788230bda"
  },
  {
   "cell_type": "code",
   "outputs": [
    {
     "name": "stdout",
     "output_type": "stream",
     "text": [
      "1986\n",
      "2013\n"
     ]
    }
   ],
   "source": [
    "# just like with dictionary, we can access a specific key (index) and value (data)\n",
    "print(ages.iloc[2])  # to access by item location\n",
    "print(ages[\"Daughter\"])  # to access by item key"
   ],
   "metadata": {
    "collapsed": false,
    "ExecuteTime": {
     "end_time": "2024-03-10T13:22:24.019192Z",
     "start_time": "2024-03-10T13:22:24.004281Z"
    }
   },
   "id": "679980e399980ba5",
   "execution_count": 4
  },
  {
   "cell_type": "code",
   "outputs": [
    {
     "name": "stdout",
     "output_type": "stream",
     "text": [
      "Me          1986\n",
      "Nowadays    2024\n",
      "Name: Important years, dtype: int64\n",
      "\n",
      "Nowadays    2024\n",
      "Daughter    2013\n",
      "Name: Important years, dtype: int64\n"
     ]
    }
   ],
   "source": [
    "# or we can get several items from the Series; the order doesn't matter\n",
    "print(ages.iloc[[2, -1]])  # by item location\n",
    "print()\n",
    "\n",
    "print(ages[[\"Nowadays\", \"Daughter\"]])  # by key name"
   ],
   "metadata": {
    "collapsed": false,
    "ExecuteTime": {
     "end_time": "2024-03-10T13:22:24.042315Z",
     "start_time": "2024-03-10T13:22:24.022399Z"
    }
   },
   "id": "a5eadf7a30fba01e",
   "execution_count": 5
  },
  {
   "cell_type": "code",
   "outputs": [
    {
     "name": "stdout",
     "output_type": "stream",
     "text": [
      "2013\n",
      "1986\n",
      "1986\n"
     ]
    }
   ],
   "source": [
    "# we can also access Series items if we use their key names as methods\n",
    "# important note: in this case, the key must not contain spaces or special symbols\n",
    "print(ages.Daughter)\n",
    "print(ages.Wife)\n",
    "print(ages.Me)"
   ],
   "metadata": {
    "collapsed": false,
    "ExecuteTime": {
     "end_time": "2024-03-10T13:22:24.054896Z",
     "start_time": "2024-03-10T13:22:24.045329Z"
    }
   },
   "id": "1022d923aacafbc2",
   "execution_count": 6
  },
  {
   "cell_type": "markdown",
   "source": [
    "### Slicing"
   ],
   "metadata": {
    "collapsed": false
   },
   "id": "148b17888428222c"
  },
  {
   "cell_type": "code",
   "outputs": [
    {
     "name": "stdout",
     "output_type": "stream",
     "text": [
      "Mother    1947\n",
      "Me        1986\n",
      "Wife      1986\n",
      "Name: Important years, dtype: int64\n",
      "\n",
      "Father      1947\n",
      "Me          1986\n",
      "Daughter    2013\n",
      "Name: Important years, dtype: int64\n",
      "\n",
      "Nowadays    2024\n",
      "War         2022\n",
      "Daughter    2013\n",
      "Wife        1986\n",
      "Me          1986\n",
      "Mother      1947\n",
      "Father      1947\n",
      "Name: Important years, dtype: int64\n"
     ]
    }
   ],
   "source": [
    "# Series slicing is also possible\n",
    "print(ages.iloc[1:4])  # start:stop (not inclusive)\n",
    "print()\n",
    "\n",
    "print(ages.iloc[:6:2])  # start:stop:step\n",
    "print()\n",
    "\n",
    "print(ages.iloc[::-1])  # reversed Series"
   ],
   "metadata": {
    "collapsed": false,
    "ExecuteTime": {
     "end_time": "2024-03-10T13:22:24.079594Z",
     "start_time": "2024-03-10T13:22:24.057908Z"
    }
   },
   "id": "62d91ef221d5a540",
   "execution_count": 7
  },
  {
   "cell_type": "code",
   "outputs": [
    {
     "name": "stdout",
     "output_type": "stream",
     "text": [
      "Father      1947\n",
      "Mother      1947\n",
      "Me          1986\n",
      "Wife        1986\n",
      "Daughter    2013\n",
      "War         2022\n",
      "Name: Important years, dtype: int64\n",
      "\n",
      "Father      1947\n",
      "Me          1986\n",
      "Daughter    2013\n",
      "Name: Important years, dtype: int64\n"
     ]
    }
   ],
   "source": [
    "# and it's okay to slice by key\n",
    "print(ages[\"Father\":\"War\"])  # start:stop (inclusive)\n",
    "print()\n",
    "\n",
    "print(ages[\"Father\":\"War\":2])  # start:stop:step"
   ],
   "metadata": {
    "collapsed": false,
    "ExecuteTime": {
     "end_time": "2024-03-10T13:22:24.123663Z",
     "start_time": "2024-03-10T13:22:24.082683Z"
    }
   },
   "id": "98a3017b5e0b46e2",
   "execution_count": 8
  },
  {
   "cell_type": "markdown",
   "source": [
    "### Boolean logic"
   ],
   "metadata": {
    "collapsed": false
   },
   "id": "552f93f5c9bef32e"
  },
  {
   "cell_type": "code",
   "outputs": [
    {
     "name": "stdout",
     "output_type": "stream",
     "text": [
      "False\n",
      "True\n",
      "\n",
      "Father      False\n",
      "Mother      False\n",
      "Me           True\n",
      "Wife         True\n",
      "Daughter    False\n",
      "War         False\n",
      "Nowadays    False\n",
      "Name: Important years, dtype: bool\n",
      "\n",
      "True\n",
      "False\n"
     ]
    }
   ],
   "source": [
    "# Series also supports Boolean logic\n",
    "print(ages.Me > 2013)\n",
    "print(ages.Me == 1986)\n",
    "print()\n",
    "\n",
    "print(ages == 1986)\n",
    "print()\n",
    "\n",
    "print(\"Daughter\" in ages)\n",
    "print(\"ZSU\" in ages)"
   ],
   "metadata": {
    "collapsed": false,
    "ExecuteTime": {
     "end_time": "2024-03-10T13:22:24.138053Z",
     "start_time": "2024-03-10T13:22:24.128678Z"
    }
   },
   "id": "1cd5c9dea669e343",
   "execution_count": 9
  },
  {
   "cell_type": "markdown",
   "source": [
    "### Sorting"
   ],
   "metadata": {
    "collapsed": false
   },
   "id": "73e0365f8fd3247a"
  },
  {
   "cell_type": "code",
   "outputs": [
    {
     "name": "stdout",
     "output_type": "stream",
     "text": [
      "Daughter    2013\n",
      "Father      1947\n",
      "Me          1986\n",
      "Mother      1947\n",
      "Nowadays    2024\n",
      "War         2022\n",
      "Wife        1986\n",
      "Name: Important years, dtype: int64\n",
      "\n",
      "Father      1947\n",
      "Mother      1947\n",
      "Me          1986\n",
      "Wife        1986\n",
      "Daughter    2013\n",
      "War         2022\n",
      "Nowadays    2024\n",
      "Name: Important years, dtype: int64\n"
     ]
    }
   ],
   "source": [
    "# we can also sort the Series\n",
    "ages = ages.sort_index()  # by key (name)\n",
    "print(ages)\n",
    "print()\n",
    "\n",
    "ages = ages.sort_values()  # by value\n",
    "print(ages)"
   ],
   "metadata": {
    "collapsed": false,
    "ExecuteTime": {
     "end_time": "2024-03-10T13:22:24.155923Z",
     "start_time": "2024-03-10T13:22:24.140194Z"
    }
   },
   "id": "25712c7ccb630b12",
   "execution_count": 10
  },
  {
   "cell_type": "code",
   "outputs": [
    {
     "name": "stdout",
     "output_type": "stream",
     "text": [
      "Daughter    2013\n",
      "Father      1947\n",
      "Me          1986\n",
      "Mother      1947\n",
      "Nowadays    2024\n",
      "War         2022\n",
      "Wife        1986\n",
      "Name: Important years, dtype: int64\n"
     ]
    }
   ],
   "source": [
    "# or we can update the Series object without re-assigning it\n",
    "ages.sort_index(inplace=True)  # by using the inplace parameter\n",
    "print(ages)"
   ],
   "metadata": {
    "collapsed": false,
    "ExecuteTime": {
     "end_time": "2024-03-10T13:22:24.172920Z",
     "start_time": "2024-03-10T13:22:24.160939Z"
    }
   },
   "id": "2d7d8ff5973ab115",
   "execution_count": 11
  },
  {
   "cell_type": "code",
   "outputs": [
    {
     "name": "stdout",
     "output_type": "stream",
     "text": [
      "Father      1947\n",
      "Mother      1947\n",
      "Me          1986\n",
      "Wife        1986\n",
      "Daughter    2013\n",
      "War         2022\n",
      "Nowadays    2024\n",
      "Name: Important years, dtype: int64\n",
      "\n",
      "Nowadays    2024\n",
      "War         2022\n",
      "Daughter    2013\n",
      "Me          1986\n",
      "Wife        1986\n",
      "Father      1947\n",
      "Mother      1947\n",
      "Name: Important years, dtype: int64\n"
     ]
    }
   ],
   "source": [
    "# and, of course, we can do ascending and descending sorting\n",
    "ages.sort_values(inplace=True, ascending=True)  # from min to max\n",
    "print(ages)\n",
    "print()\n",
    "\n",
    "ages.sort_values(inplace=True, ascending=False)  # from max to min\n",
    "print(ages)"
   ],
   "metadata": {
    "collapsed": false,
    "ExecuteTime": {
     "end_time": "2024-03-10T13:22:24.190827Z",
     "start_time": "2024-03-10T13:22:24.176342Z"
    }
   },
   "id": "3d758b4de6bb87ba",
   "execution_count": 12
  },
  {
   "cell_type": "markdown",
   "source": [
    "### NaN and missing values"
   ],
   "metadata": {
    "collapsed": false
   },
   "id": "c9ca7d1afdff2f65"
  },
  {
   "cell_type": "code",
   "outputs": [],
   "source": [
    "# let's create a new Series object, using a dictionary this time\n",
    "# here's our dictionary\n",
    "ages_dict = {\"Mother\": 1947, \"Wife\": 1986, \"Daughter\": 2013, \"War\": 2022}\n",
    "\n",
    "# and we use it as our data\n",
    "ages = pd.Series(data=ages_dict,\n",
    "                 index=[\"Mother\", \"Father\", \"Wife\", \"Me\", \"Daughter\", \"War\", \"Nowadays\"],  # but here are some keys that were not specified in the dictionary\n",
    "                 dtype=np.float64)  # and let's also use float64 data type for experimenting"
   ],
   "metadata": {
    "collapsed": false,
    "ExecuteTime": {
     "end_time": "2024-03-10T13:22:24.205880Z",
     "start_time": "2024-03-10T13:22:24.192839Z"
    }
   },
   "id": "594f82c5feb9a54d",
   "execution_count": 13
  },
  {
   "cell_type": "code",
   "outputs": [
    {
     "name": "stdout",
     "output_type": "stream",
     "text": [
      "Index(['Mother', 'Father', 'Wife', 'Me', 'Daughter', 'War', 'Nowadays'], dtype='object')\n"
     ]
    }
   ],
   "source": [
    "# let's check our index names (keys)\n",
    "print(ages.index)"
   ],
   "metadata": {
    "collapsed": false,
    "ExecuteTime": {
     "end_time": "2024-03-10T13:22:24.219579Z",
     "start_time": "2024-03-10T13:22:24.211087Z"
    }
   },
   "id": "737cc1eb22d8e4ab",
   "execution_count": 14
  },
  {
   "cell_type": "code",
   "outputs": [
    {
     "name": "stdout",
     "output_type": "stream",
     "text": [
      "Mother      1947.0\n",
      "Father         NaN\n",
      "Wife        1986.0\n",
      "Me             NaN\n",
      "Daughter    2013.0\n",
      "War         2022.0\n",
      "Nowadays       NaN\n",
      "dtype: float64\n"
     ]
    }
   ],
   "source": [
    "# now let's check our Series\n",
    "print(ages)"
   ],
   "metadata": {
    "collapsed": false,
    "ExecuteTime": {
     "end_time": "2024-03-10T13:22:24.236431Z",
     "start_time": "2024-03-10T13:22:24.222103Z"
    }
   },
   "id": "a4011f080690f2c9",
   "execution_count": 15
  },
  {
   "cell_type": "code",
   "outputs": [
    {
     "name": "stdout",
     "output_type": "stream",
     "text": [
      "True\n"
     ]
    }
   ],
   "source": [
    "# we can check if our Series has any NaN-type items\n",
    "print(ages.hasnans)"
   ],
   "metadata": {
    "collapsed": false,
    "ExecuteTime": {
     "end_time": "2024-03-10T13:22:24.250165Z",
     "start_time": "2024-03-10T13:22:24.238444Z"
    }
   },
   "id": "b29bef39f75daf4b",
   "execution_count": 16
  },
  {
   "cell_type": "code",
   "outputs": [
    {
     "name": "stdout",
     "output_type": "stream",
     "text": [
      "3\n"
     ]
    }
   ],
   "source": [
    "# and we can also check how many NaN-type items we have by using the sum() function together with isna()\n",
    "print(sum(ages.isna()))"
   ],
   "metadata": {
    "collapsed": false,
    "ExecuteTime": {
     "end_time": "2024-03-10T13:22:24.266695Z",
     "start_time": "2024-03-10T13:22:24.252278Z"
    }
   },
   "id": "b02ecf54b7157de0",
   "execution_count": 17
  },
  {
   "cell_type": "code",
   "outputs": [
    {
     "name": "stdout",
     "output_type": "stream",
     "text": [
      "Mother      1947.0\n",
      "Father         0.0\n",
      "Wife        1986.0\n",
      "Me             0.0\n",
      "Daughter    2013.0\n",
      "War         2022.0\n",
      "Nowadays       0.0\n",
      "dtype: float64\n"
     ]
    }
   ],
   "source": [
    "# although our Series is a float64-type object, it also contains NaN data types that were not provided in the dictionary; let's replace them with zeros\n",
    "ages.fillna(0, inplace=True)\n",
    "\n",
    "print(ages)"
   ],
   "metadata": {
    "collapsed": false,
    "ExecuteTime": {
     "end_time": "2024-03-10T13:22:24.282986Z",
     "start_time": "2024-03-10T13:22:24.267907Z"
    }
   },
   "id": "a1af6c8981138323",
   "execution_count": 18
  },
  {
   "cell_type": "code",
   "outputs": [
    {
     "data": {
      "text/plain": "0.0       3\n1947.0    1\n1986.0    1\n2013.0    1\n2022.0    1\nName: count, dtype: int64"
     },
     "execution_count": 19,
     "metadata": {},
     "output_type": "execute_result"
    }
   ],
   "source": [
    "# and we can also check our Series for unique values\n",
    "ages.value_counts()"
   ],
   "metadata": {
    "collapsed": false,
    "ExecuteTime": {
     "end_time": "2024-03-10T13:22:24.307620Z",
     "start_time": "2024-03-10T13:22:24.287026Z"
    }
   },
   "id": "165b3e3e1f585c07",
   "execution_count": 19
  },
  {
   "cell_type": "markdown",
   "source": [
    "## DataFrame"
   ],
   "metadata": {
    "collapsed": false
   },
   "id": "15131cee94f6a9ce"
  },
  {
   "cell_type": "markdown",
   "source": [
    "A DataFrame is a set of Series objects, where each Series object represents a separate column. Let's create a new DataFrame object."
   ],
   "metadata": {
    "collapsed": false
   },
   "id": "a5c0b0e5eab48639"
  },
  {
   "cell_type": "markdown",
   "source": [
    "### Creating DataFrames from lists"
   ],
   "metadata": {
    "collapsed": false
   },
   "id": "7fea385738471b1"
  },
  {
   "cell_type": "code",
   "outputs": [
    {
     "name": "stdout",
     "output_type": "stream",
     "text": [
      "Empty DataFrame\n",
      "Columns: []\n",
      "Index: []\n"
     ]
    }
   ],
   "source": [
    "# let's say we have several lists of the same length  \n",
    "names = [\"Gregory\", \"Joseph\", \"Alex\", \"Sergey\", \"Jenny\", \"Sveta\"]\n",
    "companies = [\"NATEC\", \"Achievion\", \"Achievion\", \"NATEC\", \"HomeCare\", \"HomeCare\"]\n",
    "emails = [\"gregory@example.com\", \"joseph@gmail.com\", \"alex@outlook.com\", \"sergey@example.com\", \"jenny@gmail.com\", \"sveta@outlook.com\"]\n",
    "\n",
    "# we can create an empty DF object\n",
    "df = pd.DataFrame()\n",
    "\n",
    "# and check it out\n",
    "print(df)"
   ],
   "metadata": {
    "collapsed": false,
    "ExecuteTime": {
     "end_time": "2024-03-10T13:22:24.326945Z",
     "start_time": "2024-03-10T13:22:24.311149Z"
    }
   },
   "id": "d85d5c3ae3e4f00a",
   "execution_count": 20
  },
  {
   "cell_type": "code",
   "outputs": [
    {
     "name": "stdout",
     "output_type": "stream",
     "text": [
      "      name                email    company\n",
      "0  Gregory  gregory@example.com      NATEC\n",
      "1   Joseph     joseph@gmail.com  Achievion\n",
      "2     Alex     alex@outlook.com  Achievion\n",
      "3   Sergey   sergey@example.com      NATEC\n",
      "4    Jenny      jenny@gmail.com   HomeCare\n",
      "5    Sveta    sveta@outlook.com   HomeCare\n"
     ]
    }
   ],
   "source": [
    "# now, let's add our lists to our DF\n",
    "df[\"name\"] = names\n",
    "df[\"email\"] = emails\n",
    "df[\"company\"] = companies\n",
    "\n",
    "print(df)"
   ],
   "metadata": {
    "collapsed": false,
    "ExecuteTime": {
     "end_time": "2024-03-10T13:22:24.342213Z",
     "start_time": "2024-03-10T13:22:24.328958Z"
    }
   },
   "id": "d76052e5c7482a33",
   "execution_count": 21
  },
  {
   "cell_type": "markdown",
   "source": [
    "### Creating DataFrames from dictionaries"
   ],
   "metadata": {
    "collapsed": false
   },
   "id": "db96036512c1d2d3"
  },
  {
   "cell_type": "code",
   "outputs": [
    {
     "name": "stdout",
     "output_type": "stream",
     "text": [
      "Empty DataFrame\n",
      "Columns: []\n",
      "Index: []\n"
     ]
    }
   ],
   "source": [
    "# now, let's create a DF from scratch but using dictionaries this time\n",
    "names = {\"names\": [\"Gregory\", \"Joseph\", \"Alex\", \"Sergey\", \"Jenny\", \"Sveta\"]}\n",
    "companies = {\"companies\": [\"NATEC\", \"Achievion\", \"Achievion\", \"NATEC\", \"HomeCare\", \"HomeCare\"]}\n",
    "emails = {\"emails\": [\"gregory@example.com\", \"joseph@gmail.com\", \"alex@outlook.com\", \"sergey@example.com\", \"jenny@gmail.com\", \"sveta@outlook.com\"]}\n",
    "\n",
    "# create an empty DF\n",
    "df = pd.DataFrame()\n",
    "\n",
    "print(df)"
   ],
   "metadata": {
    "collapsed": false,
    "ExecuteTime": {
     "end_time": "2024-03-10T13:22:24.357191Z",
     "start_time": "2024-03-10T13:22:24.344238Z"
    }
   },
   "id": "1325fea882058149",
   "execution_count": 22
  },
  {
   "cell_type": "code",
   "outputs": [
    {
     "name": "stdout",
     "output_type": "stream",
     "text": [
      "      name    company                email\n",
      "0  Gregory      NATEC  gregory@example.com\n",
      "1   Joseph  Achievion     joseph@gmail.com\n",
      "2     Alex  Achievion     alex@outlook.com\n",
      "3   Sergey      NATEC   sergey@example.com\n",
      "4    Jenny   HomeCare      jenny@gmail.com\n",
      "5    Sveta   HomeCare    sveta@outlook.com\n"
     ]
    }
   ],
   "source": [
    "# let's add our dictionaries\n",
    "df[\"name\"] = names[\"names\"]\n",
    "df[\"company\"] = companies[\"companies\"]\n",
    "df[\"email\"] = emails[\"emails\"]\n",
    "\n",
    "# and check the result\n",
    "print(df)"
   ],
   "metadata": {
    "collapsed": false,
    "ExecuteTime": {
     "end_time": "2024-03-10T13:22:24.380593Z",
     "start_time": "2024-03-10T13:22:24.360201Z"
    }
   },
   "id": "888669133ef546cd",
   "execution_count": 23
  },
  {
   "cell_type": "markdown",
   "source": [
    "### Creating DataFrames from Series objects"
   ],
   "metadata": {
    "collapsed": false
   },
   "id": "cdb12aa10914723a"
  },
  {
   "cell_type": "code",
   "outputs": [
    {
     "name": "stdout",
     "output_type": "stream",
     "text": [
      "Empty DataFrame\n",
      "Columns: []\n",
      "Index: []\n"
     ]
    }
   ],
   "source": [
    "# finally, let's create a DF using Series\n",
    "names = pd.Series(data=[\"Gregory\", \"Joseph\", \"Alex\", \"Sergey\", \"Jenny\", \"Sveta\"])\n",
    "emails = pd.Series(data=[\"gregory@example.com\", \"joseph@gmail.com\", \"alex@outlook.com\", \"sergey@example.com\", \"jenny@gmail.com\", \"sveta@outlook.com\"])\n",
    "companies = pd.Series(data=[\"NATEC\", \"Achievion\", \"Achievion\", \"NATEC\", \"HomeCare\", \"HomeCare\"])\n",
    "\n",
    "# an empty DF\n",
    "df = pd.DataFrame()\n",
    "\n",
    "print(df)"
   ],
   "metadata": {
    "collapsed": false,
    "ExecuteTime": {
     "end_time": "2024-03-10T13:22:24.402502Z",
     "start_time": "2024-03-10T13:22:24.386609Z"
    }
   },
   "id": "33d97333a7e6fd3f",
   "execution_count": 24
  },
  {
   "cell_type": "code",
   "outputs": [
    {
     "name": "stdout",
     "output_type": "stream",
     "text": [
      "      name                email    company\n",
      "0  Gregory  gregory@example.com      NATEC\n",
      "1   Joseph     joseph@gmail.com  Achievion\n",
      "2     Alex     alex@outlook.com  Achievion\n",
      "3   Sergey   sergey@example.com      NATEC\n",
      "4    Jenny      jenny@gmail.com   HomeCare\n",
      "5    Sveta    sveta@outlook.com   HomeCare\n"
     ]
    }
   ],
   "source": [
    "# and let's add our Series objects\n",
    "df[\"name\"] = names\n",
    "df[\"email\"] = emails\n",
    "df[\"company\"] = companies\n",
    "\n",
    "# check the result\n",
    "print(df)"
   ],
   "metadata": {
    "collapsed": false,
    "ExecuteTime": {
     "end_time": "2024-03-10T13:22:24.420164Z",
     "start_time": "2024-03-10T13:22:24.404515Z"
    }
   },
   "id": "9ef2162910b8093d",
   "execution_count": 25
  },
  {
   "cell_type": "markdown",
   "source": [
    "### Changing DataFrame indexing"
   ],
   "metadata": {
    "collapsed": false
   },
   "id": "75382d470819ae4"
  },
  {
   "cell_type": "code",
   "outputs": [
    {
     "name": "stdout",
     "output_type": "stream",
     "text": [
      "       name                email    company\n",
      "11  Gregory  gregory@example.com      NATEC\n",
      "12   Joseph     joseph@gmail.com  Achievion\n",
      "13     Alex     alex@outlook.com  Achievion\n",
      "14   Sergey   sergey@example.com      NATEC\n",
      "15    Jenny      jenny@gmail.com   HomeCare\n",
      "16    Sveta    sveta@outlook.com   HomeCare\n"
     ]
    }
   ],
   "source": [
    "# we can set our custom indexing; let's set it so that indexing starts with 11\n",
    "starting_index = 11\n",
    "ending_index = len(names) + starting_index\n",
    "\n",
    "# apply new indexing to our DF\n",
    "df.set_index(pd.Index(range(starting_index, ending_index)), inplace=True)\n",
    "\n",
    "# and check the result\n",
    "print(df)"
   ],
   "metadata": {
    "collapsed": false,
    "ExecuteTime": {
     "end_time": "2024-03-10T13:22:24.438809Z",
     "start_time": "2024-03-10T13:22:24.423176Z"
    }
   },
   "id": "b4835360ede7e79e",
   "execution_count": 26
  },
  {
   "cell_type": "code",
   "outputs": [
    {
     "name": "stdout",
     "output_type": "stream",
     "text": [
      "      name                email    company\n",
      "0  Gregory  gregory@example.com      NATEC\n",
      "1   Joseph     joseph@gmail.com  Achievion\n",
      "2     Alex     alex@outlook.com  Achievion\n",
      "3   Sergey   sergey@example.com      NATEC\n",
      "4    Jenny      jenny@gmail.com   HomeCare\n",
      "5    Sveta    sveta@outlook.com   HomeCare\n"
     ]
    }
   ],
   "source": [
    "# and we can reset indexing\n",
    "df = df.reset_index()\n",
    "del df[\"index\"]\n",
    "\n",
    "print(df)"
   ],
   "metadata": {
    "collapsed": false,
    "ExecuteTime": {
     "end_time": "2024-03-10T13:22:24.454508Z",
     "start_time": "2024-03-10T13:22:24.441137Z"
    }
   },
   "id": "5dadcac1b1749ee7",
   "execution_count": 27
  },
  {
   "cell_type": "markdown",
   "source": [
    "### Working with DataFrame"
   ],
   "metadata": {
    "collapsed": false
   },
   "id": "715b5b950aa9b794"
  },
  {
   "cell_type": "code",
   "outputs": [
    {
     "name": "stdout",
     "output_type": "stream",
     "text": [
      "      name                email    company\n",
      "0  Gregory  gregory@example.com      NATEC\n",
      "1   Joseph     joseph@gmail.com  Achievion\n",
      "2     Alex     alex@outlook.com  Achievion\n",
      "3   Sergey   sergey@example.com      NATEC\n",
      "4    Jenny      jenny@gmail.com   HomeCare\n",
      "\n",
      "      name                email    company\n",
      "0  Gregory  gregory@example.com      NATEC\n",
      "1   Joseph     joseph@gmail.com  Achievion\n",
      "2     Alex     alex@outlook.com  Achievion\n"
     ]
    }
   ],
   "source": [
    "# check the DF head\n",
    "print(df.head())  # it prints 5 rows by default\n",
    "print()\n",
    "\n",
    "print(df.head(3))  # but we can see more or less if we want"
   ],
   "metadata": {
    "collapsed": false,
    "ExecuteTime": {
     "end_time": "2024-03-10T13:22:24.467077Z",
     "start_time": "2024-03-10T13:22:24.455523Z"
    }
   },
   "id": "5be7377468f4dd95",
   "execution_count": 28
  },
  {
   "cell_type": "code",
   "outputs": [
    {
     "name": "stdout",
     "output_type": "stream",
     "text": [
      "           name                email company\n",
      "count         6                    6       6\n",
      "unique        6                    6       3\n",
      "top     Gregory  gregory@example.com   NATEC\n",
      "freq          1                    1       2\n"
     ]
    }
   ],
   "source": [
    "# get the description of our DF\n",
    "print(df.describe())"
   ],
   "metadata": {
    "collapsed": false,
    "ExecuteTime": {
     "end_time": "2024-03-10T13:22:24.486298Z",
     "start_time": "2024-03-10T13:22:24.469091Z"
    }
   },
   "id": "685844740a808442",
   "execution_count": 29
  },
  {
   "cell_type": "code",
   "outputs": [
    {
     "name": "stdout",
     "output_type": "stream",
     "text": [
      "0    Gregory\n",
      "1     Joseph\n",
      "2       Alex\n",
      "3     Sergey\n",
      "4      Jenny\n",
      "5      Sveta\n",
      "Name: name, dtype: object\n"
     ]
    }
   ],
   "source": [
    "# access a specific column (Series object)\n",
    "print(df[\"name\"])"
   ],
   "metadata": {
    "collapsed": false,
    "ExecuteTime": {
     "end_time": "2024-03-10T13:22:24.503129Z",
     "start_time": "2024-03-10T13:22:24.489310Z"
    }
   },
   "id": "61097bc2917dddc5",
   "execution_count": 30
  },
  {
   "cell_type": "code",
   "outputs": [
    {
     "name": "stdout",
     "output_type": "stream",
     "text": [
      "                 email    company\n",
      "0  gregory@example.com      NATEC\n",
      "1     joseph@gmail.com  Achievion\n",
      "2     alex@outlook.com  Achievion\n",
      "3   sergey@example.com      NATEC\n",
      "4      jenny@gmail.com   HomeCare\n",
      "5    sveta@outlook.com   HomeCare\n"
     ]
    }
   ],
   "source": [
    "# access several columns\n",
    "print(df[[\"email\", \"company\"]])  # several keys must be provided as a list"
   ],
   "metadata": {
    "collapsed": false,
    "ExecuteTime": {
     "end_time": "2024-03-10T13:22:24.520999Z",
     "start_time": "2024-03-10T13:22:24.505141Z"
    }
   },
   "id": "af4426feb64bd635",
   "execution_count": 31
  },
  {
   "cell_type": "code",
   "outputs": [
    {
     "name": "stdout",
     "output_type": "stream",
     "text": [
      "name                 Joseph\n",
      "email      joseph@gmail.com\n",
      "company           Achievion\n",
      "Name: 1, dtype: object\n",
      "\n",
      "name                 Jenny\n",
      "email      jenny@gmail.com\n",
      "company           HomeCare\n",
      "Name: 4, dtype: object\n"
     ]
    }
   ],
   "source": [
    "# get a specific row of our DF by its index\n",
    "print(df.iloc[1])\n",
    "print()\n",
    "\n",
    "print(df.iloc[4])"
   ],
   "metadata": {
    "collapsed": false,
    "ExecuteTime": {
     "end_time": "2024-03-10T13:22:24.539178Z",
     "start_time": "2024-03-10T13:22:24.523489Z"
    }
   },
   "id": "bc56e1b3e8be4a3f",
   "execution_count": 32
  },
  {
   "cell_type": "code",
   "outputs": [
    {
     "name": "stdout",
     "output_type": "stream",
     "text": [
      "     name               email    company\n",
      "1  Joseph    joseph@gmail.com  Achievion\n",
      "2    Alex    alex@outlook.com  Achievion\n",
      "3  Sergey  sergey@example.com      NATEC\n"
     ]
    }
   ],
   "source": [
    "# get a DF slice\n",
    "print(df[1:4])  # start:stop (not inclusive)"
   ],
   "metadata": {
    "collapsed": false,
    "ExecuteTime": {
     "end_time": "2024-03-10T13:22:24.553937Z",
     "start_time": "2024-03-10T13:22:24.542194Z"
    }
   },
   "id": "f21a34084e887ead",
   "execution_count": 33
  },
  {
   "cell_type": "code",
   "outputs": [
    {
     "name": "stdout",
     "output_type": "stream",
     "text": [
      "name       6\n",
      "email      6\n",
      "company    6\n",
      "dtype: int64\n"
     ]
    }
   ],
   "source": [
    "# get information about each column in a DF\n",
    "print(df.count())"
   ],
   "metadata": {
    "collapsed": false,
    "ExecuteTime": {
     "end_time": "2024-03-10T13:22:24.568887Z",
     "start_time": "2024-03-10T13:22:24.557244Z"
    }
   },
   "id": "ad0c375d276eabcb",
   "execution_count": 34
  },
  {
   "cell_type": "code",
   "outputs": [
    {
     "name": "stdout",
     "output_type": "stream",
     "text": [
      "Index(['name', 'email', 'company'], dtype='object')\n"
     ]
    }
   ],
   "source": [
    "# get column names\n",
    "print(df.columns)"
   ],
   "metadata": {
    "collapsed": false,
    "ExecuteTime": {
     "end_time": "2024-03-10T13:22:24.580463Z",
     "start_time": "2024-03-10T13:22:24.571014Z"
    }
   },
   "id": "e3831bb6f363060e",
   "execution_count": 35
  },
  {
   "cell_type": "markdown",
   "source": [
    "### Reading and writing CSV files"
   ],
   "metadata": {
    "collapsed": false
   },
   "id": "aa99236e6b5f203a"
  },
  {
   "cell_type": "code",
   "outputs": [
    {
     "name": "stdout",
     "output_type": "stream",
     "text": [
      "            name                          email           phone  favorite\n",
      "0  Allen Raymond      nulla.ante@vestibul.co.uk  (992) 914-3792     False\n",
      "1    Chaim Lewis            dui.in@egetlacus.ca  (294) 840-6685     False\n",
      "2   Kennedy Lane  mattis.Cras@nonenimMauris.net  (542) 451-7038      True\n",
      "3     Wylie Pope              est@utquamvel.net  (692) 802-2949     False\n",
      "4  Cyrus Jackson         nibh@semsempererat.com  (501) 472-5218      True\n"
     ]
    }
   ],
   "source": [
    "# to quickly read a csv file, we can do the following\n",
    "df = pd.read_csv(\"1_users.csv\")\n",
    "\n",
    "print(df)"
   ],
   "metadata": {
    "collapsed": false,
    "ExecuteTime": {
     "end_time": "2024-03-10T13:25:39.629560Z",
     "start_time": "2024-03-10T13:25:39.619390Z"
    }
   },
   "id": "8354eea60b6ce929",
   "execution_count": 37
  },
  {
   "cell_type": "code",
   "outputs": [
    {
     "name": "stdout",
     "output_type": "stream",
     "text": [
      "            name                          email           phone  favorite\n",
      "0  Allen Raymond      nulla.ante@vestibul.co.uk  (992) 914-3792     False\n",
      "1    Chaim Lewis            dui.in@egetlacus.ca  (294) 840-6685     False\n",
      "2   Kennedy Lane  mattis.Cras@nonenimMauris.net  (542) 451-7038      True\n",
      "3     Wylie Pope              est@utquamvel.net  (692) 802-2949     False\n",
      "4  Cyrus Jackson         nibh@semsempererat.com  (501) 472-5218      True\n"
     ]
    }
   ],
   "source": [
    "# but for precise reading, let's use parameters\n",
    "df = pd.read_csv(filepath_or_buffer=\"1_users.csv\",\n",
    "                 sep=\",\",  # a separator; its comma by default\n",
    "                 header=0,  # our indices; it uses numeric values starting from zero by default\n",
    "                 skip_blank_lines=False,  # it's True by default\n",
    "                 nrows=1000,  # how many rows we want to read; it reads all the rows by default\n",
    "                 )\n",
    "\n",
    "print(df)"
   ],
   "metadata": {
    "collapsed": false,
    "ExecuteTime": {
     "end_time": "2024-03-10T13:29:46.984601Z",
     "start_time": "2024-03-10T13:29:46.975095Z"
    }
   },
   "id": "d26c03c1acd217bd",
   "execution_count": 38
  },
  {
   "cell_type": "code",
   "outputs": [],
   "source": [
    "# to write our DataFrame to a csv file, we need to use the to_csv() method\n",
    "df.to_csv(path_or_buf=\"1_users_write.csv\",  # file name\n",
    "          sep=\",\",  # separator\n",
    "          header=True,  # if we need a header column; it's True by default\n",
    "          index=False  # if we need indices; it's True by default\n",
    "          )"
   ],
   "metadata": {
    "collapsed": false,
    "ExecuteTime": {
     "end_time": "2024-03-10T13:36:21.575155Z",
     "start_time": "2024-03-10T13:36:21.554111Z"
    }
   },
   "id": "774e88904189c0ca",
   "execution_count": 46
  },
  {
   "cell_type": "markdown",
   "source": [
    "The Pandas library can also work with Excel (in xls and xlsx file formats, but may require openpyxl package to install) and JSON file formats."
   ],
   "metadata": {
    "collapsed": false
   },
   "id": "88a729c7518430e5"
  },
  {
   "cell_type": "markdown",
   "source": [
    "### Parsing data using the Pandas library "
   ],
   "metadata": {
    "collapsed": false
   },
   "id": "70707fe58f69d0d2"
  },
  {
   "cell_type": "markdown",
   "source": [
    "There are many Python parsing libraries available, but Pandas has its own. Let's see how it works."
   ],
   "metadata": {
    "collapsed": false
   },
   "id": "ec2c7b93bc302925"
  },
  {
   "cell_type": "code",
   "outputs": [
    {
     "data": {
      "text/plain": "    Рік  Природний  Міграційний  Загальний\n0  1990       27.6         78.3      105.9\n1  1991      -39.1        151.3      112.2\n2  1992     -100.3        287.8      187.5\n3  1993     -184.2         54.5     -129.7\n4  1994     -243.1       -142.9     -386.0\n5  1995     -299.7       -131.6     -431.3\n6  1996     -309.5       -169.2     -478.7\n7  1997     -311.6       -136.0     -447.6\n8  1998     -300.7       -152.0     -452.7\n9  1999     -350.0       -138.3     -488.3",
      "text/html": "<div>\n<style scoped>\n    .dataframe tbody tr th:only-of-type {\n        vertical-align: middle;\n    }\n\n    .dataframe tbody tr th {\n        vertical-align: top;\n    }\n\n    .dataframe thead th {\n        text-align: right;\n    }\n</style>\n<table border=\"1\" class=\"dataframe\">\n  <thead>\n    <tr style=\"text-align: right;\">\n      <th></th>\n      <th>Рік</th>\n      <th>Природний</th>\n      <th>Міграційний</th>\n      <th>Загальний</th>\n    </tr>\n  </thead>\n  <tbody>\n    <tr>\n      <th>0</th>\n      <td>1990</td>\n      <td>27.6</td>\n      <td>78.3</td>\n      <td>105.9</td>\n    </tr>\n    <tr>\n      <th>1</th>\n      <td>1991</td>\n      <td>-39.1</td>\n      <td>151.3</td>\n      <td>112.2</td>\n    </tr>\n    <tr>\n      <th>2</th>\n      <td>1992</td>\n      <td>-100.3</td>\n      <td>287.8</td>\n      <td>187.5</td>\n    </tr>\n    <tr>\n      <th>3</th>\n      <td>1993</td>\n      <td>-184.2</td>\n      <td>54.5</td>\n      <td>-129.7</td>\n    </tr>\n    <tr>\n      <th>4</th>\n      <td>1994</td>\n      <td>-243.1</td>\n      <td>-142.9</td>\n      <td>-386.0</td>\n    </tr>\n    <tr>\n      <th>5</th>\n      <td>1995</td>\n      <td>-299.7</td>\n      <td>-131.6</td>\n      <td>-431.3</td>\n    </tr>\n    <tr>\n      <th>6</th>\n      <td>1996</td>\n      <td>-309.5</td>\n      <td>-169.2</td>\n      <td>-478.7</td>\n    </tr>\n    <tr>\n      <th>7</th>\n      <td>1997</td>\n      <td>-311.6</td>\n      <td>-136.0</td>\n      <td>-447.6</td>\n    </tr>\n    <tr>\n      <th>8</th>\n      <td>1998</td>\n      <td>-300.7</td>\n      <td>-152.0</td>\n      <td>-452.7</td>\n    </tr>\n    <tr>\n      <th>9</th>\n      <td>1999</td>\n      <td>-350.0</td>\n      <td>-138.3</td>\n      <td>-488.3</td>\n    </tr>\n  </tbody>\n</table>\n</div>"
     },
     "execution_count": 73,
     "metadata": {},
     "output_type": "execute_result"
    }
   ],
   "source": [
    "# let's read the sheet called \"Динаміка руху населення України з 1990 року (тисяч осіб)\" from Wikipedia \n",
    "url = \"https://uk.wikipedia.org/wiki/%D0%9D%D0%B0%D1%81%D0%B5%D0%BB%D0%B5%D0%BD%D0%BD%D1%8F_%D0%A3%D0%BA%D1%80%D0%B0%D1%97%D0%BD%D0%B8\"\n",
    "sheet_name = \"Динаміка руху\"\n",
    "\n",
    "df = pd.read_html(io=url,  # the URL we want to parse\n",
    "                  match=sheet_name,  # the sheet we want to parse\n",
    "                  thousands=\".\",  # a separator which is used to separate thousands and greater numbers\n",
    "                  decimal=\",\"  # a separator which is used to separate 10-base numbers\n",
    "                  )[0]  # read_html() returns a list, which contains our DataFrame with index 0, so we need to specify it\n",
    "\n",
    "\n",
    "df.head(10)"
   ],
   "metadata": {
    "collapsed": false,
    "ExecuteTime": {
     "end_time": "2024-03-10T13:59:50.742827Z",
     "start_time": "2024-03-10T13:59:47.103854Z"
    }
   },
   "id": "c62c724262f7ed11",
   "execution_count": 73
  },
  {
   "cell_type": "code",
   "outputs": [
    {
     "name": "stdout",
     "output_type": "stream",
     "text": [
      "        Природний  Міграційний   Загальний\n",
      "count   32.000000    32.000000   32.000000\n",
      "mean  -249.681250   -10.275000 -259.953125\n",
      "std    104.700742    96.710906  181.769594\n",
      "min   -442.200000  -169.200000 -521.700000\n",
      "25%   -326.050000   -58.250000 -403.750000\n",
      "50%   -262.050000    13.800000 -262.100000\n",
      "75%   -183.900000    21.275000 -162.825000\n",
      "max     27.600000   287.800000  187.500000\n"
     ]
    }
   ],
   "source": [
    "# let's see our DF\n",
    "print(df.describe())"
   ],
   "metadata": {
    "collapsed": false,
    "ExecuteTime": {
     "end_time": "2024-03-10T13:59:50.761695Z",
     "start_time": "2024-03-10T13:59:50.746218Z"
    }
   },
   "id": "1ce5974717e16ebe",
   "execution_count": 74
  },
  {
   "cell_type": "code",
   "outputs": [],
   "source": [],
   "metadata": {
    "collapsed": false
   },
   "id": "e99c288da78a9ff7"
  }
 ],
 "metadata": {
  "kernelspec": {
   "display_name": "Python 3",
   "language": "python",
   "name": "python3"
  },
  "language_info": {
   "codemirror_mode": {
    "name": "ipython",
    "version": 2
   },
   "file_extension": ".py",
   "mimetype": "text/x-python",
   "name": "python",
   "nbconvert_exporter": "python",
   "pygments_lexer": "ipython2",
   "version": "2.7.6"
  }
 },
 "nbformat": 4,
 "nbformat_minor": 5
}
