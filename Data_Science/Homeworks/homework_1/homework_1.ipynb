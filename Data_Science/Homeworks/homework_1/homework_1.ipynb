{
 "cells": [
  {
   "cell_type": "markdown",
   "source": [
    "# Homework 1"
   ],
   "metadata": {
    "collapsed": false
   },
   "id": "9d8445353de7f0e7"
  },
  {
   "cell_type": "code",
   "execution_count": 1,
   "id": "initial_id",
   "metadata": {
    "collapsed": true,
    "ExecuteTime": {
     "end_time": "2024-01-29T22:08:44.299048100Z",
     "start_time": "2024-01-29T22:08:44.169479100Z"
    }
   },
   "outputs": [],
   "source": [
    "import numpy as np\n",
    "\n",
    "np.random.seed(42)\n",
    "np.set_printoptions(suppress=True)"
   ]
  },
  {
   "cell_type": "code",
   "outputs": [
    {
     "name": "stdout",
     "output_type": "stream",
     "text": [
      "Vector:\n",
      "[ 1  2  3  4  5  6  7  8  9 10]\n",
      "Number of dimensions: 1\n"
     ]
    }
   ],
   "source": [
    "# Task 1\n",
    "vector_1 = np.arange(1, 11)\n",
    "\n",
    "print(f\"Vector:\\n{vector_1}\")\n",
    "print(f\"Number of dimensions: {vector_1.ndim}\")"
   ],
   "metadata": {
    "collapsed": false,
    "ExecuteTime": {
     "end_time": "2024-01-29T22:08:44.315890800Z",
     "start_time": "2024-01-29T22:08:44.300057700Z"
    }
   },
   "id": "7d1957f37dc90d6d",
   "execution_count": 2
  },
  {
   "cell_type": "code",
   "outputs": [
    {
     "name": "stdout",
     "output_type": "stream",
     "text": [
      "Matrix:\n",
      "[[0. 0. 0.]\n",
      " [0. 0. 0.]\n",
      " [0. 0. 0.]]\n",
      "Number of dimensions: 2\n"
     ]
    }
   ],
   "source": [
    "# Task 2\n",
    "matrix_1 = np.zeros(9).reshape((3, 3))\n",
    "\n",
    "print(f\"Matrix:\\n{matrix_1}\")\n",
    "print(f\"Number of dimensions: {matrix_1.ndim}\")"
   ],
   "metadata": {
    "collapsed": false,
    "ExecuteTime": {
     "end_time": "2024-01-29T22:08:44.316891500Z",
     "start_time": "2024-01-29T22:08:44.309869200Z"
    }
   },
   "id": "73cea44703533df1",
   "execution_count": 3
  },
  {
   "cell_type": "code",
   "outputs": [
    {
     "name": "stdout",
     "output_type": "stream",
     "text": [
      "Matrix:\n",
      "[[ 7  4  8  5  7]\n",
      " [10  3  7  8  5]\n",
      " [ 4  8  8  3  6]\n",
      " [ 5  2  8  6  2]\n",
      " [ 5  1 10  6  9]]\n",
      "Number of dimensions: 2\n"
     ]
    }
   ],
   "source": [
    "# Task 3\n",
    "matrix_2 = np.random.randint(1, 11, 25).reshape((5, 5))\n",
    "\n",
    "print(f\"Matrix:\\n{matrix_2}\")\n",
    "print(f\"Number of dimensions: {matrix_2.ndim}\")"
   ],
   "metadata": {
    "collapsed": false,
    "ExecuteTime": {
     "end_time": "2024-01-29T22:08:44.326248Z",
     "start_time": "2024-01-29T22:08:44.319411100Z"
    }
   },
   "id": "b58c3233e4bb3b7",
   "execution_count": 4
  },
  {
   "cell_type": "code",
   "outputs": [
    {
     "name": "stdout",
     "output_type": "stream",
     "text": [
      "Matrix:\n",
      "[[0.29122914 0.61185289 0.13949386 0.29214465]\n",
      " [0.36636184 0.45606998 0.78517596 0.19967378]\n",
      " [0.51423444 0.59241457 0.04645041 0.60754485]\n",
      " [0.17052412 0.06505159 0.94888554 0.96563203]]\n",
      "Number of dimensions: 2\n"
     ]
    }
   ],
   "source": [
    "# Task 4\n",
    "matrix_3 = np.array([np.random.uniform(0, 1) for i in range(16)]).reshape((4, 4))\n",
    "\n",
    "print(f\"Matrix:\\n{matrix_3}\")\n",
    "print(f\"Number of dimensions: {matrix_3.ndim}\")"
   ],
   "metadata": {
    "collapsed": false,
    "ExecuteTime": {
     "end_time": "2024-01-29T22:08:44.336579Z",
     "start_time": "2024-01-29T22:08:44.328827900Z"
    }
   },
   "id": "1d1a26e94ead64cf",
   "execution_count": 5
  },
  {
   "cell_type": "code",
   "outputs": [
    {
     "name": "stdout",
     "output_type": "stream",
     "text": [
      "Addition:\n",
      "[ 4 14 16 18  8]\n",
      "\n",
      "Subtraction:\n",
      "[0 6 2 2 2]\n",
      "\n",
      "Multiplication:\n",
      "[ 4 40 63 80 15]\n"
     ]
    }
   ],
   "source": [
    "# Task 5\n",
    "vector_2 = np.random.randint(1, 11, 5)\n",
    "vector_3 = np.random.randint(1, 11, 5)\n",
    "\n",
    "print(f\"Addition:\\n{vector_2 + vector_3}\\n\")\n",
    "print(f\"Subtraction:\\n{vector_2 - vector_3}\\n\")\n",
    "print(f\"Multiplication:\\n{vector_2 * vector_3}\")"
   ],
   "metadata": {
    "collapsed": false,
    "ExecuteTime": {
     "end_time": "2024-01-29T22:08:44.403800400Z",
     "start_time": "2024-01-29T22:08:44.335572100Z"
    }
   },
   "id": "c060e6cb7813f49",
   "execution_count": 6
  },
  {
   "cell_type": "code",
   "outputs": [
    {
     "name": "stdout",
     "output_type": "stream",
     "text": [
      "Dot product:\n",
      "8.842577874749665\n"
     ]
    }
   ],
   "source": [
    "# Task 6\n",
    "vector_4, vector_5 = np.random.randint(1, 11, 5), np.random.uniform(0, 1, 5)\n",
    "\n",
    "print(f\"Dot product:\\n{np.dot(vector_4, vector_5)}\")"
   ],
   "metadata": {
    "collapsed": false,
    "ExecuteTime": {
     "end_time": "2024-01-29T22:08:44.403800400Z",
     "start_time": "2024-01-29T22:08:44.342591200Z"
    }
   },
   "id": "a8c9892c7b2c0454",
   "execution_count": 7
  },
  {
   "cell_type": "code",
   "outputs": [
    {
     "name": "stdout",
     "output_type": "stream",
     "text": [
      "Dot product:\n",
      "[[ 96  80  94]\n",
      " [112  90  98]]\n"
     ]
    }
   ],
   "source": [
    "# Task 7\n",
    "matrix_4, matrix_5 = np.random.randint(1, 11, 4).reshape((2, 2)), np.random.randint(1, 11, 6).reshape((2, 3))\n",
    "\n",
    "print(f\"Dot product:\\n{np.dot(matrix_4, matrix_5)}\")"
   ],
   "metadata": {
    "collapsed": false,
    "ExecuteTime": {
     "end_time": "2024-01-29T22:08:44.404800800Z",
     "start_time": "2024-01-29T22:08:44.350539600Z"
    }
   },
   "id": "16522c190c1824ac",
   "execution_count": 8
  },
  {
   "cell_type": "code",
   "outputs": [
    {
     "name": "stdout",
     "output_type": "stream",
     "text": [
      "Matrix inverted:\n",
      "[[-0.19170984  0.00518135  0.21243523]\n",
      " [ 0.1865285   0.11658031 -0.22020725]\n",
      " [ 0.04663212 -0.09585492  0.06994819]]\n"
     ]
    }
   ],
   "source": [
    "# Task 8\n",
    "matrix_6 = np.random.randint(1, 11, 9).reshape((3, 3))\n",
    "matrix_inverted = np.linalg.inv(matrix_6)\n",
    "\n",
    "print(f\"Matrix inverted:\\n{matrix_inverted}\")"
   ],
   "metadata": {
    "collapsed": false,
    "ExecuteTime": {
     "end_time": "2024-01-29T22:08:44.405678900Z",
     "start_time": "2024-01-29T22:08:44.357359700Z"
    }
   },
   "id": "804fd500e7a4b620",
   "execution_count": 9
  },
  {
   "cell_type": "code",
   "outputs": [
    {
     "name": "stdout",
     "output_type": "stream",
     "text": [
      "Matrix transposed:\n",
      "[[0.77224477 0.70685734 0.35846573 0.33089802]\n",
      " [0.19871568 0.72900717 0.11586906 0.06355835]\n",
      " [0.00552212 0.77127035 0.86310343 0.31098232]\n",
      " [0.81546143 0.07404465 0.62329813 0.32518332]]\n"
     ]
    }
   ],
   "source": [
    "# Task 9\n",
    "matrix_7 = np.random.uniform(0, 1, 16).reshape((4, 4)).T\n",
    "\n",
    "print(f\"Matrix transposed:\\n{matrix_7}\")"
   ],
   "metadata": {
    "collapsed": false,
    "ExecuteTime": {
     "end_time": "2024-01-29T22:08:44.471032100Z",
     "start_time": "2024-01-29T22:08:44.363684100Z"
    }
   },
   "id": "fc32daab6adcc838",
   "execution_count": 10
  },
  {
   "cell_type": "code",
   "outputs": [
    {
     "name": "stdout",
     "output_type": "stream",
     "text": [
      "Matrix 3x4:\n",
      "[[ 3  8  6  3]\n",
      " [ 1  3  5  3]\n",
      " [ 1  5 10  7]]\n",
      "\n",
      "Vector:\n",
      "[ 7  9 10 10]\n",
      "\n",
      "Matrix * Vector:\n",
      "[[ 21  72  60  30]\n",
      " [  7  27  50  30]\n",
      " [  7  45 100  70]]\n"
     ]
    }
   ],
   "source": [
    "# Task 10\n",
    "matrix_8, vector_6 = np.random.randint(1, 11, 12).reshape((3, 4)), np.random.randint(1, 11, 4)\n",
    "\n",
    "print(f\"Matrix 3x4:\\n{matrix_8}\\n\")\n",
    "print(f\"Vector:\\n{vector_6}\\n\")\n",
    "print(f\"Matrix * Vector:\\n{matrix_8 * vector_6}\")"
   ],
   "metadata": {
    "collapsed": false,
    "ExecuteTime": {
     "end_time": "2024-01-29T22:08:44.472069900Z",
     "start_time": "2024-01-29T22:08:44.371548900Z"
    }
   },
   "id": "25a489a07dcde053",
   "execution_count": 11
  },
  {
   "cell_type": "code",
   "outputs": [
    {
     "name": "stdout",
     "output_type": "stream",
     "text": [
      "Matrix * Vector:\n",
      "[[0.06121339 0.12192259 0.48357   ]\n",
      " [0.06623402 0.34045355 0.37546816]]\n"
     ]
    }
   ],
   "source": [
    "# Task 11\n",
    "matrix_9, vector_7 = np.random.uniform(0, 1, 6).reshape((2, 3)), np.random.uniform(0, 1, 3)\n",
    "\n",
    "print(f\"Matrix * Vector:\\n{matrix_9 * vector_7}\")"
   ],
   "metadata": {
    "collapsed": false,
    "ExecuteTime": {
     "end_time": "2024-01-29T22:08:44.473114Z",
     "start_time": "2024-01-29T22:08:44.377812500Z"
    }
   },
   "id": "e4d46d144a42396",
   "execution_count": 12
  },
  {
   "cell_type": "code",
   "outputs": [
    {
     "name": "stdout",
     "output_type": "stream",
     "text": [
      "Matrix 1:\n",
      "[[4 7]\n",
      " [3 6]]\n",
      "\n",
      "Matrix 2:\n",
      "[[ 2 10]\n",
      " [ 9  5]]\n",
      "\n",
      "Matrix 1 * Matrix 2:\n",
      "[[ 8 70]\n",
      " [27 30]]\n"
     ]
    }
   ],
   "source": [
    "# Task 12\n",
    "matrix_10, matrix_11 = np.random.randint(1, 11, 4).reshape((2, 2)), np.random.randint(1, 11, 4).reshape((2, 2))\n",
    "\n",
    "print(f\"Matrix 1:\\n{matrix_10}\\n\")\n",
    "print(f\"Matrix 2:\\n{matrix_11}\\n\")\n",
    "print(f\"Matrix 1 * Matrix 2:\\n{matrix_10 * matrix_11}\")"
   ],
   "metadata": {
    "collapsed": false,
    "ExecuteTime": {
     "end_time": "2024-01-29T22:08:44.473114Z",
     "start_time": "2024-01-29T22:08:44.383638Z"
    }
   },
   "id": "bfc2529536b932c4",
   "execution_count": 13
  },
  {
   "cell_type": "code",
   "outputs": [
    {
     "name": "stdout",
     "output_type": "stream",
     "text": [
      "Matrix 1:\n",
      "[[ 6  4]\n",
      " [10  7]]\n",
      "\n",
      "Matrix 2:\n",
      "[[9 7]\n",
      " [1 1]]\n",
      "\n",
      "Matrix 1 * Matrix 2 dot product:\n",
      "[[58 46]\n",
      " [97 77]]\n"
     ]
    }
   ],
   "source": [
    "# Task 13\n",
    "matrix_12, matrix_13 = np.random.randint(1, 11, 4).reshape((2, 2)), np.random.randint(1, 11, 4).reshape((2, 2))\n",
    "\n",
    "print(f\"Matrix 1:\\n{matrix_12}\\n\")\n",
    "print(f\"Matrix 2:\\n{matrix_13}\\n\")\n",
    "print(f\"Matrix 1 * Matrix 2 dot product:\\n{np.dot(matrix_12, matrix_13)}\")"
   ],
   "metadata": {
    "collapsed": false,
    "ExecuteTime": {
     "end_time": "2024-01-29T22:08:44.474065Z",
     "start_time": "2024-01-29T22:08:44.393679300Z"
    }
   },
   "id": "8c986c4f14479b87",
   "execution_count": 14
  },
  {
   "cell_type": "code",
   "outputs": [
    {
     "name": "stdout",
     "output_type": "stream",
     "text": [
      "Matrix:\n",
      "[[27 62 77  3 70]\n",
      " [72 27  9 62 37]\n",
      " [97 51 44 24 79]\n",
      " [59 32 96 88 52]\n",
      " [62 58 52 12 39]]\n",
      "\n",
      "The sum of all the matrix elements: 1291\n"
     ]
    }
   ],
   "source": [
    "# Task 14\n",
    "matrix_14 = np.random.randint(1, 101, 25).reshape((5, 5))\n",
    "\n",
    "print(f\"Matrix:\\n{matrix_14}\\n\")\n",
    "print(f\"The sum of all the matrix elements: {np.sum(matrix_14)}\")"
   ],
   "metadata": {
    "collapsed": false,
    "ExecuteTime": {
     "end_time": "2024-01-29T22:08:44.476062500Z",
     "start_time": "2024-01-29T22:08:44.402801100Z"
    }
   },
   "id": "88b31c6f16176781",
   "execution_count": 15
  },
  {
   "cell_type": "code",
   "outputs": [
    {
     "name": "stdout",
     "output_type": "stream",
     "text": [
      "Matrix 1:\n",
      "[[ 5  8 10  4]\n",
      " [10  8 10  2]\n",
      " [ 5  9  4  6]\n",
      " [ 1  9  1  5]]\n",
      "\n",
      "Matrix 2:\n",
      "[[ 4  3  6  2]\n",
      " [ 3  5  9  2]\n",
      " [10  8  2  5]\n",
      " [ 7  8  1  6]]\n",
      "\n",
      "Matrix 1 and Matrix 2 subtraction difference:\n",
      "[[ 1  5  4  2]\n",
      " [ 7  3  1  0]\n",
      " [-5  1  2  1]\n",
      " [-6  1  0 -1]]\n"
     ]
    }
   ],
   "source": [
    "# Task 15\n",
    "matrix_15, matrix_16 = np.random.randint(1, 11, 16).reshape((4, 4)), np.random.randint(1, 11, 16).reshape((4, 4))\n",
    "\n",
    "print(f\"Matrix 1:\\n{matrix_15}\\n\")\n",
    "print(f\"Matrix 2:\\n{matrix_16}\\n\")\n",
    "print(f\"Matrix 1 and Matrix 2 subtraction difference:\\n{matrix_15 - matrix_16}\")"
   ],
   "metadata": {
    "collapsed": false,
    "ExecuteTime": {
     "end_time": "2024-01-29T22:19:08.657597400Z",
     "start_time": "2024-01-29T22:19:08.644303900Z"
    }
   },
   "id": "50d9dcdc0b1baea5",
   "execution_count": 35
  },
  {
   "cell_type": "code",
   "outputs": [
    {
     "name": "stdout",
     "output_type": "stream",
     "text": [
      "Matrix:\n",
      "[[0.51209306 0.22649578 0.64517279]\n",
      " [0.17436643 0.69093774 0.38673535]\n",
      " [0.93672999 0.13752094 0.34106635]]\n"
     ]
    }
   ],
   "source": [
    "# Task 16\n",
    "matrix_17 = np.random.uniform(0, 1, 9).reshape((3, 3))\n",
    "\n",
    "print(f\"Matrix:\\n{matrix_17}\")"
   ],
   "metadata": {
    "collapsed": false,
    "ExecuteTime": {
     "end_time": "2024-01-29T22:10:20.476875800Z",
     "start_time": "2024-01-29T22:10:20.465544700Z"
    }
   },
   "id": "7d40d8770bab8e30",
   "execution_count": 22
  },
  {
   "cell_type": "code",
   "outputs": [],
   "source": [],
   "metadata": {
    "collapsed": false
   },
   "id": "4d81d818b7ac8e7b"
  }
 ],
 "metadata": {
  "kernelspec": {
   "display_name": "Python 3",
   "language": "python",
   "name": "python3"
  },
  "language_info": {
   "codemirror_mode": {
    "name": "ipython",
    "version": 2
   },
   "file_extension": ".py",
   "mimetype": "text/x-python",
   "name": "python",
   "nbconvert_exporter": "python",
   "pygments_lexer": "ipython2",
   "version": "2.7.6"
  }
 },
 "nbformat": 4,
 "nbformat_minor": 5
}
