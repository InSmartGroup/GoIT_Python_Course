{
 "cells": [
  {
   "cell_type": "markdown",
   "source": [
    "# Homework 1"
   ],
   "metadata": {
    "collapsed": false
   },
   "id": "9d8445353de7f0e7"
  },
  {
   "cell_type": "code",
   "execution_count": 1,
   "id": "initial_id",
   "metadata": {
    "collapsed": true,
    "ExecuteTime": {
     "end_time": "2024-02-12T14:54:23.931290700Z",
     "start_time": "2024-02-12T14:54:23.767166Z"
    }
   },
   "outputs": [],
   "source": [
    "import numpy as np\n",
    "\n",
    "np.random.seed(42)\n",
    "np.set_printoptions(suppress=True)"
   ]
  },
  {
   "cell_type": "code",
   "outputs": [
    {
     "name": "stdout",
     "output_type": "stream",
     "text": [
      "Vector:\n",
      "[ 1  2  3  4  5  6  7  8  9 10]\n",
      "Number of dimensions: 1\n"
     ]
    }
   ],
   "source": [
    "# Task 1. Create a 1-dimensional array (vector) with first 10 natural integers\n",
    "vector = np.arange(1, 11)\n",
    "\n",
    "print(f\"Vector:\\n{vector}\")\n",
    "print(f\"Number of dimensions: {vector.ndim}\")"
   ],
   "metadata": {
    "collapsed": false,
    "ExecuteTime": {
     "end_time": "2024-02-12T14:54:23.934608900Z",
     "start_time": "2024-02-12T14:54:23.905786900Z"
    }
   },
   "id": "7d1957f37dc90d6d",
   "execution_count": 2
  },
  {
   "cell_type": "code",
   "outputs": [
    {
     "name": "stdout",
     "output_type": "stream",
     "text": [
      "Matrix:\n",
      "[[0 0 0]\n",
      " [0 0 0]\n",
      " [0 0 0]]\n",
      "Number of dimensions: 2\n"
     ]
    }
   ],
   "source": [
    "# Task 2. Create a 2-dimensional array (a 3x3 matrix) filled with zeros\n",
    "matrix = np.zeros((3, 3), dtype=np.int8)\n",
    "\n",
    "print(f\"Matrix:\\n{matrix}\")\n",
    "print(f\"Number of dimensions: {matrix.ndim}\")"
   ],
   "metadata": {
    "collapsed": false,
    "ExecuteTime": {
     "end_time": "2024-02-12T14:54:23.935612600Z",
     "start_time": "2024-02-12T14:54:23.917535100Z"
    }
   },
   "id": "73cea44703533df1",
   "execution_count": 3
  },
  {
   "cell_type": "code",
   "outputs": [
    {
     "name": "stdout",
     "output_type": "stream",
     "text": [
      "Matrix:\n",
      "[[ 7  4  8  5  7]\n",
      " [10  3  7  8  5]\n",
      " [ 4  8  8  3  6]\n",
      " [ 5  2  8  6  2]\n",
      " [ 5  1 10  6  9]]\n",
      "Number of dimensions: 2\n"
     ]
    }
   ],
   "source": [
    "# Task 3. Create a 5x5 matrix and fill it with random whole numbers (from 1 to 10)\n",
    "matrix = np.random.randint(1, 11, size=(5, 5))\n",
    "\n",
    "print(f\"Matrix:\\n{matrix}\")\n",
    "print(f\"Number of dimensions: {matrix.ndim}\")"
   ],
   "metadata": {
    "collapsed": false,
    "ExecuteTime": {
     "end_time": "2024-02-12T14:54:23.999222500Z",
     "start_time": "2024-02-12T14:54:23.925290800Z"
    }
   },
   "id": "b58c3233e4bb3b7",
   "execution_count": 4
  },
  {
   "cell_type": "code",
   "outputs": [
    {
     "name": "stdout",
     "output_type": "stream",
     "text": [
      "Matrix:\n",
      "[[0.29122914 0.61185289 0.13949386 0.29214465]\n",
      " [0.36636184 0.45606998 0.78517596 0.19967378]\n",
      " [0.51423444 0.59241457 0.04645041 0.60754485]\n",
      " [0.17052412 0.06505159 0.94888554 0.96563203]]\n",
      "Number of dimensions: 2\n"
     ]
    }
   ],
   "source": [
    "# Task 4. Create a 4x4 matrix and fill it with random numbers (from 0 to 1)\n",
    "matrix = np.random.rand(4, 4)\n",
    "\n",
    "print(f\"Matrix:\\n{matrix}\")\n",
    "print(f\"Number of dimensions: {matrix.ndim}\")"
   ],
   "metadata": {
    "collapsed": false,
    "ExecuteTime": {
     "end_time": "2024-02-12T14:54:24.002345700Z",
     "start_time": "2024-02-12T14:54:23.936770Z"
    }
   },
   "id": "1d1a26e94ead64cf",
   "execution_count": 5
  },
  {
   "cell_type": "code",
   "outputs": [
    {
     "name": "stdout",
     "output_type": "stream",
     "text": [
      "Addition:\n",
      "[ 4 14 16 18  8]\n",
      "\n",
      "Subtraction:\n",
      "[0 6 2 2 2]\n",
      "\n",
      "Multiplication:\n",
      "[ 4 40 63 80 15]\n"
     ]
    }
   ],
   "source": [
    "# Task 5. Create 2 vectors of size 5, fill them with random integers from 1 to 10, and perform addition, subtraction, and multiplication\n",
    "vector_1 = np.random.randint(1, 11, 5)\n",
    "vector_2 = np.random.randint(1, 11, 5)\n",
    "\n",
    "print(f\"Addition:\\n{vector_1 + vector_2}\\n\")\n",
    "print(f\"Subtraction:\\n{vector_1 - vector_2}\\n\")\n",
    "print(f\"Multiplication:\\n{vector_1 * vector_2}\")"
   ],
   "metadata": {
    "collapsed": false,
    "ExecuteTime": {
     "end_time": "2024-02-12T14:54:24.013484300Z",
     "start_time": "2024-02-12T14:54:23.945422Z"
    }
   },
   "id": "c060e6cb7813f49",
   "execution_count": 6
  },
  {
   "cell_type": "code",
   "outputs": [
    {
     "name": "stdout",
     "output_type": "stream",
     "text": [
      "Dot product:\n",
      "1101\n"
     ]
    }
   ],
   "source": [
    "# Task 6. Create 2 vectors of size 7, fill them with random integers, and calculate the dot product\n",
    "vector_1, vector_2 = np.random.randint(1, 11, 5), np.random.randint(10, 21, 5)\n",
    "\n",
    "print(f\"Dot product:\\n{np.dot(vector_2, vector_2)}\")"
   ],
   "metadata": {
    "collapsed": false,
    "ExecuteTime": {
     "end_time": "2024-02-12T14:54:24.046760600Z",
     "start_time": "2024-02-12T14:54:23.958215300Z"
    }
   },
   "id": "a8c9892c7b2c0454",
   "execution_count": 7
  },
  {
   "cell_type": "code",
   "outputs": [
    {
     "name": "stdout",
     "output_type": "stream",
     "text": [
      "Dot product:\n",
      "[[160 160 160]\n",
      " [240 240 240]]\n"
     ]
    }
   ],
   "source": [
    "# Task 7. Create 2 matrices of size 2x2 and 2x3, fill them with random whole numbers, and multiply them \n",
    "matrix_1, matrix_2 = np.random.randint(1, 11, size=(2, 2)), np.random.randint(20, 21, size=(2, 3))\n",
    "\n",
    "print(f\"Dot product:\\n{np.dot(matrix_1, matrix_2)}\")"
   ],
   "metadata": {
    "collapsed": false,
    "ExecuteTime": {
     "end_time": "2024-02-12T14:54:24.050020200Z",
     "start_time": "2024-02-12T14:54:24.004527500Z"
    }
   },
   "id": "16522c190c1824ac",
   "execution_count": 8
  },
  {
   "cell_type": "code",
   "outputs": [
    {
     "name": "stdout",
     "output_type": "stream",
     "text": [
      "Inverted matrix:\n",
      "[[ 0.46774194 -0.06451613 -0.64516129]\n",
      " [ 0.08064516  0.16129032 -0.38709677]\n",
      " [-0.5         0.          1.        ]]\n"
     ]
    }
   ],
   "source": [
    "# Task 8. Create a 3x3 matrix, fill it with random whole numbers from 1 to 10, and calculate its inverted value\n",
    "matrix = np.random.randint(1, 11, size=(3, 3))\n",
    "matrix_inverted = np.linalg.inv(matrix)\n",
    "\n",
    "print(f\"Inverted matrix:\\n{matrix_inverted}\")"
   ],
   "metadata": {
    "collapsed": false,
    "ExecuteTime": {
     "end_time": "2024-02-12T14:54:24.065627500Z",
     "start_time": "2024-02-12T14:54:24.054361Z"
    }
   },
   "id": "804fd500e7a4b620",
   "execution_count": 9
  },
  {
   "cell_type": "code",
   "outputs": [
    {
     "name": "stdout",
     "output_type": "stream",
     "text": [
      "Matrix transposed:\n",
      "[[0.58675117 0.29627351 0.39488152 0.71134195]\n",
      " [0.96525531 0.16526694 0.29348817 0.79017554]\n",
      " [0.60703425 0.01563641 0.01407982 0.60595997]\n",
      " [0.27599918 0.42340148 0.1988424  0.92630088]]\n"
     ]
    }
   ],
   "source": [
    "# Task 9. Create a 4x4 matrix, fill it with random real numbers from 0 to 1, and transpose it\n",
    "matrix = np.random.rand(4, 4).T\n",
    "\n",
    "print(f\"Matrix transposed:\\n{matrix}\")"
   ],
   "metadata": {
    "collapsed": false,
    "ExecuteTime": {
     "end_time": "2024-02-12T14:54:24.113579Z",
     "start_time": "2024-02-12T14:54:24.068870100Z"
    }
   },
   "id": "fc32daab6adcc838",
   "execution_count": 10
  },
  {
   "cell_type": "code",
   "outputs": [
    {
     "name": "stdout",
     "output_type": "stream",
     "text": [
      "Matrix 3x4:\n",
      "[[10  9  7  9]\n",
      " [ 8  2  1  7]\n",
      " [ 7  8  5  3]]\n",
      "\n",
      "Vector:\n",
      "[8 6 3 1]\n",
      "\n",
      "Matrix * Vector:\n",
      "[[80 54 21  9]\n",
      " [64 12  3  7]\n",
      " [56 48 15  3]]\n"
     ]
    }
   ],
   "source": [
    "# Task 10. Create a 3x4 matrix and a vector of the size of 4, fill them with random whole numbers from 1 to 10, and multiply the matrix by the vector \n",
    "matrix, vector = np.random.randint(1, 11, size=(3, 4)), np.random.randint(1, 11, 4)\n",
    "\n",
    "print(f\"Matrix 3x4:\\n{matrix}\\n\")\n",
    "print(f\"Vector:\\n{vector}\\n\")\n",
    "print(f\"Matrix * Vector:\\n{matrix * vector}\")"
   ],
   "metadata": {
    "collapsed": false,
    "ExecuteTime": {
     "end_time": "2024-02-12T14:54:24.116052600Z",
     "start_time": "2024-02-12T14:54:24.077983100Z"
    }
   },
   "id": "25a489a07dcde053",
   "execution_count": 11
  },
  {
   "cell_type": "code",
   "outputs": [
    {
     "name": "stdout",
     "output_type": "stream",
     "text": [
      "Matrix * Vector:\n",
      "[[0.01548311 0.69055973 0.09413675]\n",
      " [0.02918212 0.16770572 0.02839563]]\n"
     ]
    }
   ],
   "source": [
    "# Task 11. Create a 2x3 matrix and a vector of the size of 3, fill them with random numbers from 0 to 1, and multiply the matrix by the vector\n",
    "matrix, vector = np.random.rand(2, 3), np.random.rand(3)\n",
    "\n",
    "print(f\"Matrix * Vector:\\n{matrix * vector}\")"
   ],
   "metadata": {
    "collapsed": false,
    "ExecuteTime": {
     "end_time": "2024-02-12T14:54:24.116052600Z",
     "start_time": "2024-02-12T14:54:24.090407800Z"
    }
   },
   "id": "e4d46d144a42396",
   "execution_count": 12
  },
  {
   "cell_type": "code",
   "outputs": [
    {
     "name": "stdout",
     "output_type": "stream",
     "text": [
      "Matrix 1:\n",
      "[[3 7]\n",
      " [1 4]]\n",
      "\n",
      "Matrix 2:\n",
      "[[4 5]\n",
      " [7 7]]\n",
      "\n",
      "Matrix 1 * Matrix 2:\n",
      "[[12 35]\n",
      " [ 7 28]]\n"
     ]
    }
   ],
   "source": [
    "# Task 12. Create two 2x2 matrices, fill them with random integers from 1 to 10, and perform matrix multiplication by element\n",
    "matrix_1, matrix_2 = np.random.randint(1, 11, size=(2, 2)), np.random.randint(1, 11, size=(2, 2))\n",
    "\n",
    "print(f\"Matrix 1:\\n{matrix_1}\\n\")\n",
    "print(f\"Matrix 2:\\n{matrix_2}\\n\")\n",
    "print(f\"Matrix 1 * Matrix 2:\\n{matrix_1 * matrix_2}\")"
   ],
   "metadata": {
    "collapsed": false,
    "ExecuteTime": {
     "end_time": "2024-02-12T14:54:24.183173400Z",
     "start_time": "2024-02-12T14:54:24.119923600Z"
    }
   },
   "id": "bfc2529536b932c4",
   "execution_count": 13
  },
  {
   "cell_type": "code",
   "outputs": [
    {
     "name": "stdout",
     "output_type": "stream",
     "text": [
      "Matrix 1:\n",
      "[[4 7]\n",
      " [3 6]]\n",
      "\n",
      "Matrix 2:\n",
      "[[ 2 10]\n",
      " [ 9  5]]\n",
      "\n",
      "Matrix 1 * Matrix 2 dot product:\n",
      "[[71 75]\n",
      " [60 60]]\n"
     ]
    }
   ],
   "source": [
    "# Task 13. Create two 2x2 matrices, fill them with random integers from 1 to 10, and calculate their dot product\n",
    "matrix_1, matrix_2 = np.random.randint(1, 11, size=(2, 2)), np.random.randint(1, 11, size=(2, 2))\n",
    "\n",
    "print(f\"Matrix 1:\\n{matrix_1}\\n\")\n",
    "print(f\"Matrix 2:\\n{matrix_2}\\n\")\n",
    "print(f\"Matrix 1 * Matrix 2 dot product:\\n{np.dot(matrix_1, matrix_2)}\")"
   ],
   "metadata": {
    "collapsed": false,
    "ExecuteTime": {
     "end_time": "2024-02-12T14:54:24.219767800Z",
     "start_time": "2024-02-12T14:54:24.188554200Z"
    }
   },
   "id": "8c986c4f14479b87",
   "execution_count": 14
  },
  {
   "cell_type": "code",
   "outputs": [
    {
     "name": "stdout",
     "output_type": "stream",
     "text": [
      "Matrix:\n",
      "[[ 6 28 28 44 84]\n",
      " [30 62 75 92 89]\n",
      " [62 97  1 27 62]\n",
      " [77  3 70 72 27]\n",
      " [ 9 62 37 97 51]]\n",
      "\n",
      "The sum of all the matrix elements: 1292\n"
     ]
    }
   ],
   "source": [
    "# Task 14. Create a 5x5 matrix, fill it with random integers from 1 to 100, and calculate the sum of all the matrix elements\n",
    "matrix = np.random.randint(1, 101, size=(5, 5))\n",
    "\n",
    "print(f\"Matrix:\\n{matrix}\\n\")\n",
    "print(f\"The sum of all the matrix elements: {np.sum(matrix)}\")"
   ],
   "metadata": {
    "collapsed": false,
    "ExecuteTime": {
     "end_time": "2024-02-12T14:54:24.252653700Z",
     "start_time": "2024-02-12T14:54:24.225247600Z"
    }
   },
   "id": "88b31c6f16176781",
   "execution_count": 15
  },
  {
   "cell_type": "code",
   "outputs": [
    {
     "name": "stdout",
     "output_type": "stream",
     "text": [
      "Matrix 1:\n",
      "[[10  8  6  8]\n",
      " [ 9  4  1  1]\n",
      " [10  4  7  2]\n",
      " [ 3  1  5  1]]\n",
      "\n",
      "Matrix 2:\n",
      "[[ 8  1  1  2]\n",
      " [ 2  6  7  5]\n",
      " [ 1  1  3  2]\n",
      " [ 5 10  6  7]]\n",
      "\n",
      "Matrix 1 and Matrix 2 subtraction difference:\n",
      "[[ 2  7  5  6]\n",
      " [ 7 -2 -6 -4]\n",
      " [ 9  3  4  0]\n",
      " [-2 -9 -1 -6]]\n"
     ]
    }
   ],
   "source": [
    "# Task 15. Create two 4x4 matrices, fill them with random numbers from 0 to 10, and calculate their difference\n",
    "matrix_1, matrix_2 = np.random.randint(1, 11, size=(4, 4)), np.random.randint(1, 11, size=(4, 4))\n",
    "\n",
    "print(f\"Matrix 1:\\n{matrix_1}\\n\")\n",
    "print(f\"Matrix 2:\\n{matrix_2}\\n\")\n",
    "print(f\"Matrix 1 and Matrix 2 subtraction difference:\\n{matrix_1 - matrix_2}\")"
   ],
   "metadata": {
    "collapsed": false,
    "ExecuteTime": {
     "end_time": "2024-02-12T14:54:24.280321900Z",
     "start_time": "2024-02-12T14:54:24.257933700Z"
    }
   },
   "id": "50d9dcdc0b1baea5",
   "execution_count": 16
  },
  {
   "cell_type": "code",
   "outputs": [
    {
     "name": "stdout",
     "output_type": "stream",
     "text": [
      "Matrix:\n",
      "[[0.67213555 0.76161962 0.23763754]\n",
      " [0.72821635 0.36778313 0.63230583]\n",
      " [0.63352971 0.53577468 0.09028977]]\n",
      "\n",
      "Sum column:\n",
      "[[1.67139271]\n",
      " [1.72830531]\n",
      " [1.25959416]]\n"
     ]
    }
   ],
   "source": [
    "# Task 16. Create a 3x3 matrix, fill it with random numbers from 0 to 1, and allocate a column vector that contains the sum of all the elements in a matrix row\n",
    "matrix = np.random.rand(3, 3)\n",
    "sum_column = np.sum(matrix, axis=1).reshape(-1, 1)\n",
    "\n",
    "print(f\"Matrix:\\n{matrix}\\n\")\n",
    "print(f\"Sum column:\\n{sum_column}\")"
   ],
   "metadata": {
    "collapsed": false,
    "ExecuteTime": {
     "end_time": "2024-02-12T14:54:24.309577100Z",
     "start_time": "2024-02-12T14:54:24.285129400Z"
    }
   },
   "id": "7d40d8770bab8e30",
   "execution_count": 17
  },
  {
   "cell_type": "code",
   "outputs": [
    {
     "name": "stdout",
     "output_type": "stream",
     "text": [
      "Matrix:\n",
      "[[97 73 59 70]\n",
      " [80 93  3 20]\n",
      " [59 36 19 90]]\n",
      "\n",
      "Square values matrix:\n",
      "[[9409 5329 3481 4900]\n",
      " [6400 8649    9  400]\n",
      " [3481 1296  361 8100]]\n"
     ]
    }
   ],
   "source": [
    "# Task 17. Create a 3x4 matrix, fill it with random integers, and define a new matrix that contains the square values of matrix_1 elements\n",
    "matrix = np.random.randint(1, 101, size=(3, 4))\n",
    "matrix_square = np.square(matrix)\n",
    "\n",
    "print(f\"Matrix:\\n{matrix}\\n\")\n",
    "print(f\"Square values matrix:\\n{matrix_square}\")"
   ],
   "metadata": {
    "collapsed": false,
    "ExecuteTime": {
     "end_time": "2024-02-12T14:54:24.327192600Z",
     "start_time": "2024-02-12T14:54:24.314240700Z"
    }
   },
   "id": "4d81d818b7ac8e7b",
   "execution_count": 18
  },
  {
   "cell_type": "code",
   "outputs": [
    {
     "name": "stdout",
     "output_type": "stream",
     "text": [
      "Vector:\n",
      "[ 3 19 20 32]\n",
      "\n",
      "Square root vector:\n",
      "[1.73205081 4.35889894 4.47213595 5.65685425]\n"
     ]
    }
   ],
   "source": [
    "# Task 18. Create a vector of the size of 4, fill it with random integers from 1 to 50, and define a new vector that contains square root values of vector_1\n",
    "vector = np.random.randint(1, 51, size=(4,))\n",
    "vector_square_root = np.sqrt(vector)\n",
    "\n",
    "print(f\"Vector:\\n{vector}\\n\")\n",
    "print(f\"Square root vector:\\n{vector_square_root}\")"
   ],
   "metadata": {
    "collapsed": false,
    "ExecuteTime": {
     "end_time": "2024-02-12T14:54:24.356376200Z",
     "start_time": "2024-02-12T14:54:24.318674600Z"
    }
   },
   "id": "429edd6e0861b11e",
   "execution_count": 19
  },
  {
   "cell_type": "code",
   "outputs": [],
   "source": [],
   "metadata": {
    "collapsed": false,
    "ExecuteTime": {
     "end_time": "2024-02-12T14:54:24.356454900Z",
     "start_time": "2024-02-12T14:54:24.332356400Z"
    }
   },
   "id": "a6ebc5a9e790ee88",
   "execution_count": 19
  }
 ],
 "metadata": {
  "kernelspec": {
   "display_name": "Python 3",
   "language": "python",
   "name": "python3"
  },
  "language_info": {
   "codemirror_mode": {
    "name": "ipython",
    "version": 2
   },
   "file_extension": ".py",
   "mimetype": "text/x-python",
   "name": "python",
   "nbconvert_exporter": "python",
   "pygments_lexer": "ipython2",
   "version": "2.7.6"
  }
 },
 "nbformat": 4,
 "nbformat_minor": 5
}
