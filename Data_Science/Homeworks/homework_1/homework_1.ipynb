{
 "cells": [
  {
   "cell_type": "markdown",
   "source": [
    "# Homework 1"
   ],
   "metadata": {
    "collapsed": false
   },
   "id": "9d8445353de7f0e7"
  },
  {
   "cell_type": "code",
   "execution_count": 70,
   "id": "initial_id",
   "metadata": {
    "collapsed": true,
    "ExecuteTime": {
     "end_time": "2024-01-29T18:28:47.560970900Z",
     "start_time": "2024-01-29T18:28:47.539043100Z"
    }
   },
   "outputs": [],
   "source": [
    "import numpy as np\n",
    "\n",
    "np.random.seed(42)"
   ]
  },
  {
   "cell_type": "code",
   "outputs": [
    {
     "name": "stdout",
     "output_type": "stream",
     "text": [
      "[ 1  2  3  4  5  6  7  8  9 10]\n",
      "Number of dimensions: 1\n"
     ]
    }
   ],
   "source": [
    "# Task 1\n",
    "vector_1 = np.arange(1, 11)\n",
    "print(vector_1)\n",
    "print(f\"Number of dimensions: {vector_1.ndim}\")"
   ],
   "metadata": {
    "collapsed": false,
    "ExecuteTime": {
     "end_time": "2024-01-29T18:28:47.762286100Z",
     "start_time": "2024-01-29T18:28:47.744119400Z"
    }
   },
   "id": "7d1957f37dc90d6d",
   "execution_count": 71
  },
  {
   "cell_type": "code",
   "outputs": [
    {
     "name": "stdout",
     "output_type": "stream",
     "text": [
      "[[0. 0. 0.]\n",
      " [0. 0. 0.]\n",
      " [0. 0. 0.]]\n",
      "Number of dimensions: 2\n"
     ]
    }
   ],
   "source": [
    "# Task 2\n",
    "matrix_1 = np.zeros(9).reshape((3, 3))\n",
    "print(matrix_1)\n",
    "print(f\"Number of dimensions: {matrix_1.ndim}\")"
   ],
   "metadata": {
    "collapsed": false,
    "ExecuteTime": {
     "end_time": "2024-01-29T18:28:48.154286500Z",
     "start_time": "2024-01-29T18:28:48.130834Z"
    }
   },
   "id": "73cea44703533df1",
   "execution_count": 72
  },
  {
   "cell_type": "code",
   "outputs": [
    {
     "name": "stdout",
     "output_type": "stream",
     "text": [
      "[[ 7  4  8  5  7]\n",
      " [10  3  7  8  5]\n",
      " [ 4  8  8  3  6]\n",
      " [ 5  2  8  6  2]\n",
      " [ 5  1 10  6  9]]\n",
      "Number of dimensions: 2\n"
     ]
    }
   ],
   "source": [
    "# Task 3\n",
    "matrix_2 = np.random.randint(1, 11, 25).reshape((5, 5))\n",
    "print(matrix_2)\n",
    "print(f\"Number of dimensions: {matrix_2.ndim}\")"
   ],
   "metadata": {
    "collapsed": false,
    "ExecuteTime": {
     "end_time": "2024-01-29T18:28:48.586599100Z",
     "start_time": "2024-01-29T18:28:48.577459100Z"
    }
   },
   "id": "b58c3233e4bb3b7",
   "execution_count": 73
  },
  {
   "cell_type": "code",
   "outputs": [
    {
     "name": "stdout",
     "output_type": "stream",
     "text": [
      "[[0.29122914 0.61185289 0.13949386 0.29214465]\n",
      " [0.36636184 0.45606998 0.78517596 0.19967378]\n",
      " [0.51423444 0.59241457 0.04645041 0.60754485]\n",
      " [0.17052412 0.06505159 0.94888554 0.96563203]]\n",
      "Number of dimensions: 2\n"
     ]
    }
   ],
   "source": [
    "# Task 4\n",
    "matrix_3 = np.array([np.random.uniform(0, 1) for i in range(16)]).reshape((4, 4))\n",
    "print(matrix_3)\n",
    "print(f\"Number of dimensions: {matrix_3.ndim}\")"
   ],
   "metadata": {
    "collapsed": false,
    "ExecuteTime": {
     "end_time": "2024-01-29T18:28:48.896203200Z",
     "start_time": "2024-01-29T18:28:48.888310300Z"
    }
   },
   "id": "1d1a26e94ead64cf",
   "execution_count": 74
  },
  {
   "cell_type": "code",
   "outputs": [
    {
     "name": "stdout",
     "output_type": "stream",
     "text": [
      "Addition: [ 9 10 12 17 18]\n",
      "Subtraction: [-1  6  2  1 -2]\n",
      "Multiplication: [20 16 35 72 80]\n"
     ]
    }
   ],
   "source": [
    "# Task 5\n",
    "vector_2 = np.random.randint(1, 11, 5)\n",
    "vector_3 = np.random.randint(1, 11, 5)\n",
    "print(f\"Addition: {vector_2 + vector_3}\")\n",
    "print(f\"Subtraction: {vector_2 - vector_3}\")\n",
    "print(f\"Multiplication: {vector_2 * vector_3}\")"
   ],
   "metadata": {
    "collapsed": false,
    "ExecuteTime": {
     "end_time": "2024-01-29T18:31:03.580201500Z",
     "start_time": "2024-01-29T18:31:03.566280100Z"
    }
   },
   "id": "c060e6cb7813f49",
   "execution_count": 79
  },
  {
   "cell_type": "code",
   "outputs": [
    {
     "name": "stdout",
     "output_type": "stream",
     "text": [
      "Dot product: 9.176650397712887\n"
     ]
    }
   ],
   "source": [
    "# Task 6\n",
    "vector_4, vector_5 = np.random.randint(1, 11, 5), np.random.uniform(0, 1, 5)\n",
    "print(f\"Dot product: {np.dot(vector_4, vector_5)}\")"
   ],
   "metadata": {
    "collapsed": false,
    "ExecuteTime": {
     "end_time": "2024-01-29T18:32:18.568241700Z",
     "start_time": "2024-01-29T18:32:18.502700700Z"
    }
   },
   "id": "a8c9892c7b2c0454",
   "execution_count": 80
  },
  {
   "cell_type": "code",
   "outputs": [
    {
     "name": "stdout",
     "output_type": "stream",
     "text": [
      "Dot product: [[ 57  85  52]\n",
      " [ 70 110  60]]\n"
     ]
    }
   ],
   "source": [
    "# Task 7\n",
    "matrix_4, matrix_5 = np.random.randint(1, 11, 4).reshape((2, 2)), np.random.randint(1, 11, 6).reshape((2, 3))\n",
    "print(f\"Dot product: {np.dot(matrix_4, matrix_5)}\")"
   ],
   "metadata": {
    "collapsed": false,
    "ExecuteTime": {
     "end_time": "2024-01-29T18:39:01.749150400Z",
     "start_time": "2024-01-29T18:39:01.739411500Z"
    }
   },
   "id": "16522c190c1824ac",
   "execution_count": 84
  },
  {
   "cell_type": "code",
   "outputs": [],
   "source": [
    "# Task 8\n"
   ],
   "metadata": {
    "collapsed": false
   },
   "id": "804fd500e7a4b620"
  }
 ],
 "metadata": {
  "kernelspec": {
   "display_name": "Python 3",
   "language": "python",
   "name": "python3"
  },
  "language_info": {
   "codemirror_mode": {
    "name": "ipython",
    "version": 2
   },
   "file_extension": ".py",
   "mimetype": "text/x-python",
   "name": "python",
   "nbconvert_exporter": "python",
   "pygments_lexer": "ipython2",
   "version": "2.7.6"
  }
 },
 "nbformat": 4,
 "nbformat_minor": 5
}
