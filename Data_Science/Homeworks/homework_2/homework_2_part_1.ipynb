{
 "cells": [
  {
   "cell_type": "markdown",
   "source": [
    "# Homework 2, Part 1"
   ],
   "metadata": {
    "collapsed": false
   },
   "id": "9592de507b940e4f"
  },
  {
   "cell_type": "code",
   "outputs": [],
   "source": [
    "import pandas as pd\n",
    "import numpy as np\n",
    "import matplotlib.pyplot as plt"
   ],
   "metadata": {
    "collapsed": false,
    "ExecuteTime": {
     "end_time": "2024-03-10T15:11:13.512992Z",
     "start_time": "2024-03-10T15:11:13.507847Z"
    }
   },
   "id": "59f346972b45b816",
   "execution_count": 213
  },
  {
   "cell_type": "code",
   "outputs": [
    {
     "data": {
      "text/plain": "              Регіон  1950  1960  1970  1990  2000  2012  2014  2019\n0               Крим  23.0  20.6  16.0  13.0   7.3  12.6     —     —\n1          Вінницька  22.4  19.2  14.2  12.4   8.4  11.2  10.9   7.6\n2          Волинська  24.7  25.0  17.9  15.3  11.2  14.8  14.1  10.1\n3   Дніпропетровська  20.4  20.4  15.1  12.3   7.1  11.2  11.1   7.1\n4           Донецька  27.1  21.4  14.0  10.9   6.1   9.8   8.2     —\n5        Житомирська  26.1  22.3  15.9  12.9   8.9  12.2  12.0   7.9\n6       Закарпатська  31.4  27.3  20.7  16.8  11.5  15.1  14.6  10.4\n7         Запорізька  21.9  19.7  15.0  12.4   7.1  10.6  10.6   6.8\n8  Івано-Франківська  24.3  24.8  18.2  15.5  10.3  12.4  12.2   8.8\n9           Київська  20.4  18.9  15.6  12.3   7.3  12.2  12.1   8.0",
      "text/html": "<div>\n<style scoped>\n    .dataframe tbody tr th:only-of-type {\n        vertical-align: middle;\n    }\n\n    .dataframe tbody tr th {\n        vertical-align: top;\n    }\n\n    .dataframe thead th {\n        text-align: right;\n    }\n</style>\n<table border=\"1\" class=\"dataframe\">\n  <thead>\n    <tr style=\"text-align: right;\">\n      <th></th>\n      <th>Регіон</th>\n      <th>1950</th>\n      <th>1960</th>\n      <th>1970</th>\n      <th>1990</th>\n      <th>2000</th>\n      <th>2012</th>\n      <th>2014</th>\n      <th>2019</th>\n    </tr>\n  </thead>\n  <tbody>\n    <tr>\n      <th>0</th>\n      <td>Крим</td>\n      <td>23.0</td>\n      <td>20.6</td>\n      <td>16.0</td>\n      <td>13.0</td>\n      <td>7.3</td>\n      <td>12.6</td>\n      <td>—</td>\n      <td>—</td>\n    </tr>\n    <tr>\n      <th>1</th>\n      <td>Вінницька</td>\n      <td>22.4</td>\n      <td>19.2</td>\n      <td>14.2</td>\n      <td>12.4</td>\n      <td>8.4</td>\n      <td>11.2</td>\n      <td>10.9</td>\n      <td>7.6</td>\n    </tr>\n    <tr>\n      <th>2</th>\n      <td>Волинська</td>\n      <td>24.7</td>\n      <td>25.0</td>\n      <td>17.9</td>\n      <td>15.3</td>\n      <td>11.2</td>\n      <td>14.8</td>\n      <td>14.1</td>\n      <td>10.1</td>\n    </tr>\n    <tr>\n      <th>3</th>\n      <td>Дніпропетровська</td>\n      <td>20.4</td>\n      <td>20.4</td>\n      <td>15.1</td>\n      <td>12.3</td>\n      <td>7.1</td>\n      <td>11.2</td>\n      <td>11.1</td>\n      <td>7.1</td>\n    </tr>\n    <tr>\n      <th>4</th>\n      <td>Донецька</td>\n      <td>27.1</td>\n      <td>21.4</td>\n      <td>14.0</td>\n      <td>10.9</td>\n      <td>6.1</td>\n      <td>9.8</td>\n      <td>8.2</td>\n      <td>—</td>\n    </tr>\n    <tr>\n      <th>5</th>\n      <td>Житомирська</td>\n      <td>26.1</td>\n      <td>22.3</td>\n      <td>15.9</td>\n      <td>12.9</td>\n      <td>8.9</td>\n      <td>12.2</td>\n      <td>12.0</td>\n      <td>7.9</td>\n    </tr>\n    <tr>\n      <th>6</th>\n      <td>Закарпатська</td>\n      <td>31.4</td>\n      <td>27.3</td>\n      <td>20.7</td>\n      <td>16.8</td>\n      <td>11.5</td>\n      <td>15.1</td>\n      <td>14.6</td>\n      <td>10.4</td>\n    </tr>\n    <tr>\n      <th>7</th>\n      <td>Запорізька</td>\n      <td>21.9</td>\n      <td>19.7</td>\n      <td>15.0</td>\n      <td>12.4</td>\n      <td>7.1</td>\n      <td>10.6</td>\n      <td>10.6</td>\n      <td>6.8</td>\n    </tr>\n    <tr>\n      <th>8</th>\n      <td>Івано-Франківська</td>\n      <td>24.3</td>\n      <td>24.8</td>\n      <td>18.2</td>\n      <td>15.5</td>\n      <td>10.3</td>\n      <td>12.4</td>\n      <td>12.2</td>\n      <td>8.8</td>\n    </tr>\n    <tr>\n      <th>9</th>\n      <td>Київська</td>\n      <td>20.4</td>\n      <td>18.9</td>\n      <td>15.6</td>\n      <td>12.3</td>\n      <td>7.3</td>\n      <td>12.2</td>\n      <td>12.1</td>\n      <td>8.0</td>\n    </tr>\n  </tbody>\n</table>\n</div>"
     },
     "execution_count": 214,
     "metadata": {},
     "output_type": "execute_result"
    }
   ],
   "source": [
    "# specify the URL\n",
    "URL = \"https://uk.wikipedia.org/wiki/%D0%9D%D0%B0%D1%81%D0%B5%D0%BB%D0%B5%D0%BD%D0%BD%D1%8F_%D0%A3%D0%BA%D1%80%D0%B0%D1%97%D0%BD%D0%B8\"\n",
    "\n",
    "# read the HTML, get rid of the \",\" sign in the original sheet\n",
    "data = pd.read_html(URL,\n",
    "                    match=\"Коефіцієнт народжуваності в регіонах України\",\n",
    "                    thousands=\".\",\n",
    "                    decimal=\",\"\n",
    "                    )\n",
    "\n",
    "# select the desired sheet and convert it to DataFrame\n",
    "df = pd.DataFrame(data[0])\n",
    "\n",
    "# display the converted sheet\n",
    "df.head(10)"
   ],
   "metadata": {
    "collapsed": false,
    "ExecuteTime": {
     "end_time": "2024-03-10T15:11:16.981041Z",
     "start_time": "2024-03-10T15:11:13.567993Z"
    }
   },
   "id": "1b776d814eaf0683",
   "execution_count": 214
  },
  {
   "cell_type": "code",
   "outputs": [
    {
     "name": "stdout",
     "output_type": "stream",
     "text": [
      "DF shape: (28, 9)\n"
     ]
    }
   ],
   "source": [
    "# check the shape of the sheet\n",
    "print(f\"DF shape: {df.shape}\")  # 28 rows by 9 columns"
   ],
   "metadata": {
    "collapsed": false,
    "ExecuteTime": {
     "end_time": "2024-03-10T15:11:17.002186Z",
     "start_time": "2024-03-10T15:11:16.988765Z"
    }
   },
   "id": "d9347011071c5d72",
   "execution_count": 215
  },
  {
   "cell_type": "code",
   "outputs": [
    {
     "name": "stdout",
     "output_type": "stream",
     "text": [
      "               Регіон  1950  1960  1970  1990  2000  2012  2014  2019\n",
      "0                Крим  23.0  20.6  16.0  13.0   7.3  12.6   NaN   NaN\n",
      "1           Вінницька  22.4  19.2  14.2  12.4   8.4  11.2  10.9   7.6\n",
      "2           Волинська  24.7  25.0  17.9  15.3  11.2  14.8  14.1  10.1\n",
      "3    Дніпропетровська  20.4  20.4  15.1  12.3   7.1  11.2  11.1   7.1\n",
      "4            Донецька  27.1  21.4  14.0  10.9   6.1   9.8   8.2   NaN\n",
      "5         Житомирська  26.1  22.3  15.9  12.9   8.9  12.2  12.0   7.9\n",
      "6        Закарпатська  31.4  27.3  20.7  16.8  11.5  15.1  14.6  10.4\n",
      "7          Запорізька  21.9  19.7  15.0  12.4   7.1  10.6  10.6   6.8\n",
      "8   Івано-Франківська  24.3  24.8  18.2  15.5  10.3  12.4  12.2   8.8\n",
      "9            Київська  20.4  18.9  15.6  12.3   7.3  12.2  12.1   8.0\n",
      "10     Кіровоградська  21.6  17.1  14.5  12.6   7.9  11.0  10.8   6.8\n",
      "11          Луганська  26.2  23.5  14.4  11.6   6.2   9.6   5.1   NaN\n",
      "12          Львівська  23.4  24.0  17.1  14.0   9.1  11.9  11.9   8.7\n",
      "13       Миколаївська  21.1  19.4  15.5  13.7   8.0  11.5  11.2   7.1\n",
      "14            Одеська  24.1  19.2  14.8  12.6   8.0  12.7  12.3   8.8\n",
      "15         Полтавська  18.6  16.3  13.1  11.8   7.0   9.9  10.0   6.5\n",
      "16         Рівненська  26.9  26.7  19.3  15.8  11.8  15.9  14.8  10.7\n",
      "17            Сумська  21.6  18.4  13.2  11.5   7.0   9.7   9.2   6.0\n",
      "18      Тернопільська  21.3  21.6  15.7  14.2   9.2  11.3  10.9   7.6\n",
      "19         Харківська  19.7  17.3  14.0  11.4   6.8   9.9  10.1   6.8\n",
      "20         Херсонська  20.8  21.4  16.6  14.3   8.5  11.7  11.5   8.1\n",
      "21        Хмельницька  23.4  19.8  14.8  12.9   8.5  11.3  11.2   7.9\n",
      "22          Черкаська  20.5  17.9  14.4  12.3   7.5  10.0   9.8   6.4\n",
      "23        Чернівецька  24.7  21.8  17.0  14.8  10.1  12.8  12.9   9.2\n",
      "24       Чернігівська  22.0  18.3  12.7  10.8   6.9   9.4   9.0   6.1\n",
      "25               Київ   NaN  17.4  15.9  12.0   7.3  12.0  12.1  11.0\n",
      "26        Севастополь   NaN   NaN   NaN  12.5   7.0  12.0   NaN   NaN\n",
      "27            Україна  22.8  20.5  15.2  12.6   7.8  11.4  11.1   8.1\n"
     ]
    }
   ],
   "source": [
    "# change the \"—\" sign to \"NaN\"\n",
    "df.replace(\"—\", np.nan, inplace=True)\n",
    "\n",
    "print(df)"
   ],
   "metadata": {
    "collapsed": false,
    "ExecuteTime": {
     "end_time": "2024-03-10T15:11:17.046969Z",
     "start_time": "2024-03-10T15:11:17.009348Z"
    }
   },
   "id": "ac6d644af138dab5",
   "execution_count": 216
  },
  {
   "cell_type": "code",
   "outputs": [
    {
     "name": "stdout",
     "output_type": "stream",
     "text": [
      "Регіон     object\n",
      "1950      float64\n",
      "1960      float64\n",
      "1970      float64\n",
      "1990      float64\n",
      "2000      float64\n",
      "2012      float64\n",
      "2014       object\n",
      "2019       object\n",
      "dtype: object\n"
     ]
    }
   ],
   "source": [
    "# check the data type of each column\n",
    "print(df.dtypes)"
   ],
   "metadata": {
    "collapsed": false,
    "ExecuteTime": {
     "end_time": "2024-03-10T15:11:17.072952Z",
     "start_time": "2024-03-10T15:11:17.050210Z"
    }
   },
   "id": "4b539e25f4b08eb0",
   "execution_count": 217
  },
  {
   "cell_type": "code",
   "outputs": [
    {
     "name": "stdout",
     "output_type": "stream",
     "text": [
      "Index(['Регіон', '1950', '1960', '1970', '1990', '2000', '2012', '2014',\n",
      "       '2019'],\n",
      "      dtype='object')\n"
     ]
    }
   ],
   "source": [
    "print(df.columns)"
   ],
   "metadata": {
    "collapsed": false,
    "ExecuteTime": {
     "end_time": "2024-03-10T15:11:17.090753Z",
     "start_time": "2024-03-10T15:11:17.075411Z"
    }
   },
   "id": "deea65e95e22f8ae",
   "execution_count": 218
  },
  {
   "cell_type": "code",
   "outputs": [
    {
     "name": "stdout",
     "output_type": "stream",
     "text": [
      "Регіон     object\n",
      "1950      float64\n",
      "1960      float64\n",
      "1970      float64\n",
      "1990      float64\n",
      "2000      float64\n",
      "2012      float64\n",
      "2014      float64\n",
      "2019      float64\n",
      "dtype: object\n"
     ]
    }
   ],
   "source": [
    "# change non-numeric column types to numeric\n",
    "df[['1950', '1960', '1970', '1990', '2000', '2012', '2014', '2019']] = df[['1950', '1960', '1970', '1990', '2000', '2012', '2014', '2019']].astype(\"float64\")\n",
    "\n",
    "print(df.dtypes)  # all the columns are float64 now"
   ],
   "metadata": {
    "collapsed": false,
    "ExecuteTime": {
     "end_time": "2024-03-10T15:11:17.107712Z",
     "start_time": "2024-03-10T15:11:17.092068Z"
    }
   },
   "id": "6ee087265a202b8b",
   "execution_count": 219
  },
  {
   "cell_type": "code",
   "outputs": [
    {
     "name": "stdout",
     "output_type": "stream",
     "text": [
      "               Регіон  1950  1960  1970  1990  2000  2012  2014  2019\n",
      "0                Крим  23.0  20.6  16.0  13.0   7.3  12.6   NaN   NaN\n",
      "1           Вінницька  22.4  19.2  14.2  12.4   8.4  11.2  10.9   7.6\n",
      "2           Волинська  24.7  25.0  17.9  15.3  11.2  14.8  14.1  10.1\n",
      "3    Дніпропетровська  20.4  20.4  15.1  12.3   7.1  11.2  11.1   7.1\n",
      "4            Донецька  27.1  21.4  14.0  10.9   6.1   9.8   8.2   NaN\n",
      "5         Житомирська  26.1  22.3  15.9  12.9   8.9  12.2  12.0   7.9\n",
      "6        Закарпатська  31.4  27.3  20.7  16.8  11.5  15.1  14.6  10.4\n",
      "7          Запорізька  21.9  19.7  15.0  12.4   7.1  10.6  10.6   6.8\n",
      "8   Івано-Франківська  24.3  24.8  18.2  15.5  10.3  12.4  12.2   8.8\n",
      "9            Київська  20.4  18.9  15.6  12.3   7.3  12.2  12.1   8.0\n",
      "10     Кіровоградська  21.6  17.1  14.5  12.6   7.9  11.0  10.8   6.8\n",
      "11          Луганська  26.2  23.5  14.4  11.6   6.2   9.6   5.1   NaN\n",
      "12          Львівська  23.4  24.0  17.1  14.0   9.1  11.9  11.9   8.7\n",
      "13       Миколаївська  21.1  19.4  15.5  13.7   8.0  11.5  11.2   7.1\n",
      "14            Одеська  24.1  19.2  14.8  12.6   8.0  12.7  12.3   8.8\n",
      "15         Полтавська  18.6  16.3  13.1  11.8   7.0   9.9  10.0   6.5\n",
      "16         Рівненська  26.9  26.7  19.3  15.8  11.8  15.9  14.8  10.7\n",
      "17            Сумська  21.6  18.4  13.2  11.5   7.0   9.7   9.2   6.0\n",
      "18      Тернопільська  21.3  21.6  15.7  14.2   9.2  11.3  10.9   7.6\n",
      "19         Харківська  19.7  17.3  14.0  11.4   6.8   9.9  10.1   6.8\n",
      "20         Херсонська  20.8  21.4  16.6  14.3   8.5  11.7  11.5   8.1\n",
      "21        Хмельницька  23.4  19.8  14.8  12.9   8.5  11.3  11.2   7.9\n",
      "22          Черкаська  20.5  17.9  14.4  12.3   7.5  10.0   9.8   6.4\n",
      "23        Чернівецька  24.7  21.8  17.0  14.8  10.1  12.8  12.9   9.2\n",
      "24       Чернігівська  22.0  18.3  12.7  10.8   6.9   9.4   9.0   6.1\n",
      "25               Київ   NaN  17.4  15.9  12.0   7.3  12.0  12.1  11.0\n",
      "26        Севастополь   NaN   NaN   NaN  12.5   7.0  12.0   NaN   NaN\n",
      "27            Україна  22.8  20.5  15.2  12.6   7.8  11.4  11.1   8.1\n"
     ]
    }
   ],
   "source": [
    "# check our DF\n",
    "print(df)"
   ],
   "metadata": {
    "collapsed": false,
    "ExecuteTime": {
     "end_time": "2024-03-10T15:11:17.138517Z",
     "start_time": "2024-03-10T15:11:17.109860Z"
    }
   },
   "id": "1ab852d3e57c4f06",
   "execution_count": 220
  },
  {
   "cell_type": "code",
   "outputs": [
    {
     "name": "stdout",
     "output_type": "stream",
     "text": [
      "Missing values, total: Регіон    0\n",
      "1950      2\n",
      "1960      1\n",
      "1970      1\n",
      "1990      0\n",
      "2000      0\n",
      "2012      0\n",
      "2014      2\n",
      "2019      4\n",
      "dtype: int64\n"
     ]
    }
   ],
   "source": [
    "# check how many missing values we have\n",
    "print(f\"Missing values, total: {df.isna().sum()}\")"
   ],
   "metadata": {
    "collapsed": false,
    "ExecuteTime": {
     "end_time": "2024-03-10T15:11:17.160133Z",
     "start_time": "2024-03-10T15:11:17.144117Z"
    }
   },
   "id": "3bd76df8f68ef8c7",
   "execution_count": 221
  },
  {
   "cell_type": "code",
   "outputs": [],
   "source": [
    "# remove the last row in the DF\n",
    "df = df[:-1]"
   ],
   "metadata": {
    "collapsed": false,
    "ExecuteTime": {
     "end_time": "2024-03-10T15:11:17.183509Z",
     "start_time": "2024-03-10T15:11:17.164558Z"
    }
   },
   "id": "139fcaea69fa6a3a",
   "execution_count": 222
  },
  {
   "cell_type": "code",
   "outputs": [
    {
     "ename": "TypeError",
     "evalue": "Could not convert ['КримВінницькаВолинськаДніпропетровськаДонецькаЖитомирськаЗакарпатськаЗапорізькаІвано-ФранківськаКиївськаКіровоградськаЛуганськаЛьвівськаМиколаївськаОдеськаПолтавськаРівненськаСумськаТернопільськаХарківськаХерсонськаХмельницькаЧеркаськаЧернівецькаЧернігівськаКиївСевастополь'] to numeric",
     "output_type": "error",
     "traceback": [
      "\u001B[1;31m---------------------------------------------------------------------------\u001B[0m",
      "\u001B[1;31mTypeError\u001B[0m                                 Traceback (most recent call last)",
      "Cell \u001B[1;32mIn[224], line 2\u001B[0m\n\u001B[0;32m      1\u001B[0m \u001B[38;5;66;03m# replace all the missing values with mean values across all the corresponding columns\u001B[39;00m\n\u001B[1;32m----> 2\u001B[0m df\u001B[38;5;241m.\u001B[39mfillna(\u001B[43mdf\u001B[49m\u001B[38;5;241;43m.\u001B[39;49m\u001B[43mmean\u001B[49m\u001B[43m(\u001B[49m\u001B[43m)\u001B[49m, inplace\u001B[38;5;241m=\u001B[39m\u001B[38;5;28;01mTrue\u001B[39;00m)\n",
      "File \u001B[1;32m~\\Documents\\GitHub\\GoIT_Python_Course\\venv\\Lib\\site-packages\\pandas\\core\\frame.py:11666\u001B[0m, in \u001B[0;36mDataFrame.mean\u001B[1;34m(self, axis, skipna, numeric_only, **kwargs)\u001B[0m\n\u001B[0;32m  11658\u001B[0m \u001B[38;5;129m@doc\u001B[39m(make_doc(\u001B[38;5;124m\"\u001B[39m\u001B[38;5;124mmean\u001B[39m\u001B[38;5;124m\"\u001B[39m, ndim\u001B[38;5;241m=\u001B[39m\u001B[38;5;241m2\u001B[39m))\n\u001B[0;32m  11659\u001B[0m \u001B[38;5;28;01mdef\u001B[39;00m \u001B[38;5;21mmean\u001B[39m(\n\u001B[0;32m  11660\u001B[0m     \u001B[38;5;28mself\u001B[39m,\n\u001B[1;32m   (...)\u001B[0m\n\u001B[0;32m  11664\u001B[0m     \u001B[38;5;241m*\u001B[39m\u001B[38;5;241m*\u001B[39mkwargs,\n\u001B[0;32m  11665\u001B[0m ):\n\u001B[1;32m> 11666\u001B[0m     result \u001B[38;5;241m=\u001B[39m \u001B[38;5;28;43msuper\u001B[39;49m\u001B[43m(\u001B[49m\u001B[43m)\u001B[49m\u001B[38;5;241;43m.\u001B[39;49m\u001B[43mmean\u001B[49m\u001B[43m(\u001B[49m\u001B[43maxis\u001B[49m\u001B[43m,\u001B[49m\u001B[43m \u001B[49m\u001B[43mskipna\u001B[49m\u001B[43m,\u001B[49m\u001B[43m \u001B[49m\u001B[43mnumeric_only\u001B[49m\u001B[43m,\u001B[49m\u001B[43m \u001B[49m\u001B[38;5;241;43m*\u001B[39;49m\u001B[38;5;241;43m*\u001B[39;49m\u001B[43mkwargs\u001B[49m\u001B[43m)\u001B[49m\n\u001B[0;32m  11667\u001B[0m     \u001B[38;5;28;01mif\u001B[39;00m \u001B[38;5;28misinstance\u001B[39m(result, Series):\n\u001B[0;32m  11668\u001B[0m         result \u001B[38;5;241m=\u001B[39m result\u001B[38;5;241m.\u001B[39m__finalize__(\u001B[38;5;28mself\u001B[39m, method\u001B[38;5;241m=\u001B[39m\u001B[38;5;124m\"\u001B[39m\u001B[38;5;124mmean\u001B[39m\u001B[38;5;124m\"\u001B[39m)\n",
      "File \u001B[1;32m~\\Documents\\GitHub\\GoIT_Python_Course\\venv\\Lib\\site-packages\\pandas\\core\\generic.py:12413\u001B[0m, in \u001B[0;36mNDFrame.mean\u001B[1;34m(self, axis, skipna, numeric_only, **kwargs)\u001B[0m\n\u001B[0;32m  12406\u001B[0m \u001B[38;5;28;01mdef\u001B[39;00m \u001B[38;5;21mmean\u001B[39m(\n\u001B[0;32m  12407\u001B[0m     \u001B[38;5;28mself\u001B[39m,\n\u001B[0;32m  12408\u001B[0m     axis: Axis \u001B[38;5;241m|\u001B[39m \u001B[38;5;28;01mNone\u001B[39;00m \u001B[38;5;241m=\u001B[39m \u001B[38;5;241m0\u001B[39m,\n\u001B[1;32m   (...)\u001B[0m\n\u001B[0;32m  12411\u001B[0m     \u001B[38;5;241m*\u001B[39m\u001B[38;5;241m*\u001B[39mkwargs,\n\u001B[0;32m  12412\u001B[0m ) \u001B[38;5;241m-\u001B[39m\u001B[38;5;241m>\u001B[39m Series \u001B[38;5;241m|\u001B[39m \u001B[38;5;28mfloat\u001B[39m:\n\u001B[1;32m> 12413\u001B[0m     \u001B[38;5;28;01mreturn\u001B[39;00m \u001B[38;5;28;43mself\u001B[39;49m\u001B[38;5;241;43m.\u001B[39;49m\u001B[43m_stat_function\u001B[49m\u001B[43m(\u001B[49m\n\u001B[0;32m  12414\u001B[0m \u001B[43m        \u001B[49m\u001B[38;5;124;43m\"\u001B[39;49m\u001B[38;5;124;43mmean\u001B[39;49m\u001B[38;5;124;43m\"\u001B[39;49m\u001B[43m,\u001B[49m\u001B[43m \u001B[49m\u001B[43mnanops\u001B[49m\u001B[38;5;241;43m.\u001B[39;49m\u001B[43mnanmean\u001B[49m\u001B[43m,\u001B[49m\u001B[43m \u001B[49m\u001B[43maxis\u001B[49m\u001B[43m,\u001B[49m\u001B[43m \u001B[49m\u001B[43mskipna\u001B[49m\u001B[43m,\u001B[49m\u001B[43m \u001B[49m\u001B[43mnumeric_only\u001B[49m\u001B[43m,\u001B[49m\u001B[43m \u001B[49m\u001B[38;5;241;43m*\u001B[39;49m\u001B[38;5;241;43m*\u001B[39;49m\u001B[43mkwargs\u001B[49m\n\u001B[0;32m  12415\u001B[0m \u001B[43m    \u001B[49m\u001B[43m)\u001B[49m\n",
      "File \u001B[1;32m~\\Documents\\GitHub\\GoIT_Python_Course\\venv\\Lib\\site-packages\\pandas\\core\\generic.py:12370\u001B[0m, in \u001B[0;36mNDFrame._stat_function\u001B[1;34m(self, name, func, axis, skipna, numeric_only, **kwargs)\u001B[0m\n\u001B[0;32m  12366\u001B[0m nv\u001B[38;5;241m.\u001B[39mvalidate_func(name, (), kwargs)\n\u001B[0;32m  12368\u001B[0m validate_bool_kwarg(skipna, \u001B[38;5;124m\"\u001B[39m\u001B[38;5;124mskipna\u001B[39m\u001B[38;5;124m\"\u001B[39m, none_allowed\u001B[38;5;241m=\u001B[39m\u001B[38;5;28;01mFalse\u001B[39;00m)\n\u001B[1;32m> 12370\u001B[0m \u001B[38;5;28;01mreturn\u001B[39;00m \u001B[38;5;28;43mself\u001B[39;49m\u001B[38;5;241;43m.\u001B[39;49m\u001B[43m_reduce\u001B[49m\u001B[43m(\u001B[49m\n\u001B[0;32m  12371\u001B[0m \u001B[43m    \u001B[49m\u001B[43mfunc\u001B[49m\u001B[43m,\u001B[49m\u001B[43m \u001B[49m\u001B[43mname\u001B[49m\u001B[38;5;241;43m=\u001B[39;49m\u001B[43mname\u001B[49m\u001B[43m,\u001B[49m\u001B[43m \u001B[49m\u001B[43maxis\u001B[49m\u001B[38;5;241;43m=\u001B[39;49m\u001B[43maxis\u001B[49m\u001B[43m,\u001B[49m\u001B[43m \u001B[49m\u001B[43mskipna\u001B[49m\u001B[38;5;241;43m=\u001B[39;49m\u001B[43mskipna\u001B[49m\u001B[43m,\u001B[49m\u001B[43m \u001B[49m\u001B[43mnumeric_only\u001B[49m\u001B[38;5;241;43m=\u001B[39;49m\u001B[43mnumeric_only\u001B[49m\n\u001B[0;32m  12372\u001B[0m \u001B[43m\u001B[49m\u001B[43m)\u001B[49m\n",
      "File \u001B[1;32m~\\Documents\\GitHub\\GoIT_Python_Course\\venv\\Lib\\site-packages\\pandas\\core\\frame.py:11535\u001B[0m, in \u001B[0;36mDataFrame._reduce\u001B[1;34m(self, op, name, axis, skipna, numeric_only, filter_type, **kwds)\u001B[0m\n\u001B[0;32m  11531\u001B[0m     df \u001B[38;5;241m=\u001B[39m df\u001B[38;5;241m.\u001B[39mT\n\u001B[0;32m  11533\u001B[0m \u001B[38;5;66;03m# After possibly _get_data and transposing, we are now in the\u001B[39;00m\n\u001B[0;32m  11534\u001B[0m \u001B[38;5;66;03m#  simple case where we can use BlockManager.reduce\u001B[39;00m\n\u001B[1;32m> 11535\u001B[0m res \u001B[38;5;241m=\u001B[39m \u001B[43mdf\u001B[49m\u001B[38;5;241;43m.\u001B[39;49m\u001B[43m_mgr\u001B[49m\u001B[38;5;241;43m.\u001B[39;49m\u001B[43mreduce\u001B[49m\u001B[43m(\u001B[49m\u001B[43mblk_func\u001B[49m\u001B[43m)\u001B[49m\n\u001B[0;32m  11536\u001B[0m out \u001B[38;5;241m=\u001B[39m df\u001B[38;5;241m.\u001B[39m_constructor_from_mgr(res, axes\u001B[38;5;241m=\u001B[39mres\u001B[38;5;241m.\u001B[39maxes)\u001B[38;5;241m.\u001B[39miloc[\u001B[38;5;241m0\u001B[39m]\n\u001B[0;32m  11537\u001B[0m \u001B[38;5;28;01mif\u001B[39;00m out_dtype \u001B[38;5;129;01mis\u001B[39;00m \u001B[38;5;129;01mnot\u001B[39;00m \u001B[38;5;28;01mNone\u001B[39;00m \u001B[38;5;129;01mand\u001B[39;00m out\u001B[38;5;241m.\u001B[39mdtype \u001B[38;5;241m!=\u001B[39m \u001B[38;5;124m\"\u001B[39m\u001B[38;5;124mboolean\u001B[39m\u001B[38;5;124m\"\u001B[39m:\n",
      "File \u001B[1;32m~\\Documents\\GitHub\\GoIT_Python_Course\\venv\\Lib\\site-packages\\pandas\\core\\internals\\managers.py:1501\u001B[0m, in \u001B[0;36mBlockManager.reduce\u001B[1;34m(self, func)\u001B[0m\n\u001B[0;32m   1499\u001B[0m res_blocks: \u001B[38;5;28mlist\u001B[39m[Block] \u001B[38;5;241m=\u001B[39m []\n\u001B[0;32m   1500\u001B[0m \u001B[38;5;28;01mfor\u001B[39;00m blk \u001B[38;5;129;01min\u001B[39;00m \u001B[38;5;28mself\u001B[39m\u001B[38;5;241m.\u001B[39mblocks:\n\u001B[1;32m-> 1501\u001B[0m     nbs \u001B[38;5;241m=\u001B[39m \u001B[43mblk\u001B[49m\u001B[38;5;241;43m.\u001B[39;49m\u001B[43mreduce\u001B[49m\u001B[43m(\u001B[49m\u001B[43mfunc\u001B[49m\u001B[43m)\u001B[49m\n\u001B[0;32m   1502\u001B[0m     res_blocks\u001B[38;5;241m.\u001B[39mextend(nbs)\n\u001B[0;32m   1504\u001B[0m index \u001B[38;5;241m=\u001B[39m Index([\u001B[38;5;28;01mNone\u001B[39;00m])  \u001B[38;5;66;03m# placeholder\u001B[39;00m\n",
      "File \u001B[1;32m~\\Documents\\GitHub\\GoIT_Python_Course\\venv\\Lib\\site-packages\\pandas\\core\\internals\\blocks.py:404\u001B[0m, in \u001B[0;36mBlock.reduce\u001B[1;34m(self, func)\u001B[0m\n\u001B[0;32m    398\u001B[0m \u001B[38;5;129m@final\u001B[39m\n\u001B[0;32m    399\u001B[0m \u001B[38;5;28;01mdef\u001B[39;00m \u001B[38;5;21mreduce\u001B[39m(\u001B[38;5;28mself\u001B[39m, func) \u001B[38;5;241m-\u001B[39m\u001B[38;5;241m>\u001B[39m \u001B[38;5;28mlist\u001B[39m[Block]:\n\u001B[0;32m    400\u001B[0m     \u001B[38;5;66;03m# We will apply the function and reshape the result into a single-row\u001B[39;00m\n\u001B[0;32m    401\u001B[0m     \u001B[38;5;66;03m#  Block with the same mgr_locs; squeezing will be done at a higher level\u001B[39;00m\n\u001B[0;32m    402\u001B[0m     \u001B[38;5;28;01massert\u001B[39;00m \u001B[38;5;28mself\u001B[39m\u001B[38;5;241m.\u001B[39mndim \u001B[38;5;241m==\u001B[39m \u001B[38;5;241m2\u001B[39m\n\u001B[1;32m--> 404\u001B[0m     result \u001B[38;5;241m=\u001B[39m \u001B[43mfunc\u001B[49m\u001B[43m(\u001B[49m\u001B[38;5;28;43mself\u001B[39;49m\u001B[38;5;241;43m.\u001B[39;49m\u001B[43mvalues\u001B[49m\u001B[43m)\u001B[49m\n\u001B[0;32m    406\u001B[0m     \u001B[38;5;28;01mif\u001B[39;00m \u001B[38;5;28mself\u001B[39m\u001B[38;5;241m.\u001B[39mvalues\u001B[38;5;241m.\u001B[39mndim \u001B[38;5;241m==\u001B[39m \u001B[38;5;241m1\u001B[39m:\n\u001B[0;32m    407\u001B[0m         res_values \u001B[38;5;241m=\u001B[39m result\n",
      "File \u001B[1;32m~\\Documents\\GitHub\\GoIT_Python_Course\\venv\\Lib\\site-packages\\pandas\\core\\frame.py:11454\u001B[0m, in \u001B[0;36mDataFrame._reduce.<locals>.blk_func\u001B[1;34m(values, axis)\u001B[0m\n\u001B[0;32m  11452\u001B[0m         \u001B[38;5;28;01mreturn\u001B[39;00m np\u001B[38;5;241m.\u001B[39marray([result])\n\u001B[0;32m  11453\u001B[0m \u001B[38;5;28;01melse\u001B[39;00m:\n\u001B[1;32m> 11454\u001B[0m     \u001B[38;5;28;01mreturn\u001B[39;00m \u001B[43mop\u001B[49m\u001B[43m(\u001B[49m\u001B[43mvalues\u001B[49m\u001B[43m,\u001B[49m\u001B[43m \u001B[49m\u001B[43maxis\u001B[49m\u001B[38;5;241;43m=\u001B[39;49m\u001B[43maxis\u001B[49m\u001B[43m,\u001B[49m\u001B[43m \u001B[49m\u001B[43mskipna\u001B[49m\u001B[38;5;241;43m=\u001B[39;49m\u001B[43mskipna\u001B[49m\u001B[43m,\u001B[49m\u001B[43m \u001B[49m\u001B[38;5;241;43m*\u001B[39;49m\u001B[38;5;241;43m*\u001B[39;49m\u001B[43mkwds\u001B[49m\u001B[43m)\u001B[49m\n",
      "File \u001B[1;32m~\\Documents\\GitHub\\GoIT_Python_Course\\venv\\Lib\\site-packages\\pandas\\core\\nanops.py:147\u001B[0m, in \u001B[0;36mbottleneck_switch.__call__.<locals>.f\u001B[1;34m(values, axis, skipna, **kwds)\u001B[0m\n\u001B[0;32m    145\u001B[0m         result \u001B[38;5;241m=\u001B[39m alt(values, axis\u001B[38;5;241m=\u001B[39maxis, skipna\u001B[38;5;241m=\u001B[39mskipna, \u001B[38;5;241m*\u001B[39m\u001B[38;5;241m*\u001B[39mkwds)\n\u001B[0;32m    146\u001B[0m \u001B[38;5;28;01melse\u001B[39;00m:\n\u001B[1;32m--> 147\u001B[0m     result \u001B[38;5;241m=\u001B[39m \u001B[43malt\u001B[49m\u001B[43m(\u001B[49m\u001B[43mvalues\u001B[49m\u001B[43m,\u001B[49m\u001B[43m \u001B[49m\u001B[43maxis\u001B[49m\u001B[38;5;241;43m=\u001B[39;49m\u001B[43maxis\u001B[49m\u001B[43m,\u001B[49m\u001B[43m \u001B[49m\u001B[43mskipna\u001B[49m\u001B[38;5;241;43m=\u001B[39;49m\u001B[43mskipna\u001B[49m\u001B[43m,\u001B[49m\u001B[43m \u001B[49m\u001B[38;5;241;43m*\u001B[39;49m\u001B[38;5;241;43m*\u001B[39;49m\u001B[43mkwds\u001B[49m\u001B[43m)\u001B[49m\n\u001B[0;32m    149\u001B[0m \u001B[38;5;28;01mreturn\u001B[39;00m result\n",
      "File \u001B[1;32m~\\Documents\\GitHub\\GoIT_Python_Course\\venv\\Lib\\site-packages\\pandas\\core\\nanops.py:404\u001B[0m, in \u001B[0;36m_datetimelike_compat.<locals>.new_func\u001B[1;34m(values, axis, skipna, mask, **kwargs)\u001B[0m\n\u001B[0;32m    401\u001B[0m \u001B[38;5;28;01mif\u001B[39;00m datetimelike \u001B[38;5;129;01mand\u001B[39;00m mask \u001B[38;5;129;01mis\u001B[39;00m \u001B[38;5;28;01mNone\u001B[39;00m:\n\u001B[0;32m    402\u001B[0m     mask \u001B[38;5;241m=\u001B[39m isna(values)\n\u001B[1;32m--> 404\u001B[0m result \u001B[38;5;241m=\u001B[39m \u001B[43mfunc\u001B[49m\u001B[43m(\u001B[49m\u001B[43mvalues\u001B[49m\u001B[43m,\u001B[49m\u001B[43m \u001B[49m\u001B[43maxis\u001B[49m\u001B[38;5;241;43m=\u001B[39;49m\u001B[43maxis\u001B[49m\u001B[43m,\u001B[49m\u001B[43m \u001B[49m\u001B[43mskipna\u001B[49m\u001B[38;5;241;43m=\u001B[39;49m\u001B[43mskipna\u001B[49m\u001B[43m,\u001B[49m\u001B[43m \u001B[49m\u001B[43mmask\u001B[49m\u001B[38;5;241;43m=\u001B[39;49m\u001B[43mmask\u001B[49m\u001B[43m,\u001B[49m\u001B[43m \u001B[49m\u001B[38;5;241;43m*\u001B[39;49m\u001B[38;5;241;43m*\u001B[39;49m\u001B[43mkwargs\u001B[49m\u001B[43m)\u001B[49m\n\u001B[0;32m    406\u001B[0m \u001B[38;5;28;01mif\u001B[39;00m datetimelike:\n\u001B[0;32m    407\u001B[0m     result \u001B[38;5;241m=\u001B[39m _wrap_results(result, orig_values\u001B[38;5;241m.\u001B[39mdtype, fill_value\u001B[38;5;241m=\u001B[39miNaT)\n",
      "File \u001B[1;32m~\\Documents\\GitHub\\GoIT_Python_Course\\venv\\Lib\\site-packages\\pandas\\core\\nanops.py:720\u001B[0m, in \u001B[0;36mnanmean\u001B[1;34m(values, axis, skipna, mask)\u001B[0m\n\u001B[0;32m    718\u001B[0m count \u001B[38;5;241m=\u001B[39m _get_counts(values\u001B[38;5;241m.\u001B[39mshape, mask, axis, dtype\u001B[38;5;241m=\u001B[39mdtype_count)\n\u001B[0;32m    719\u001B[0m the_sum \u001B[38;5;241m=\u001B[39m values\u001B[38;5;241m.\u001B[39msum(axis, dtype\u001B[38;5;241m=\u001B[39mdtype_sum)\n\u001B[1;32m--> 720\u001B[0m the_sum \u001B[38;5;241m=\u001B[39m \u001B[43m_ensure_numeric\u001B[49m\u001B[43m(\u001B[49m\u001B[43mthe_sum\u001B[49m\u001B[43m)\u001B[49m\n\u001B[0;32m    722\u001B[0m \u001B[38;5;28;01mif\u001B[39;00m axis \u001B[38;5;129;01mis\u001B[39;00m \u001B[38;5;129;01mnot\u001B[39;00m \u001B[38;5;28;01mNone\u001B[39;00m \u001B[38;5;129;01mand\u001B[39;00m \u001B[38;5;28mgetattr\u001B[39m(the_sum, \u001B[38;5;124m\"\u001B[39m\u001B[38;5;124mndim\u001B[39m\u001B[38;5;124m\"\u001B[39m, \u001B[38;5;28;01mFalse\u001B[39;00m):\n\u001B[0;32m    723\u001B[0m     count \u001B[38;5;241m=\u001B[39m cast(np\u001B[38;5;241m.\u001B[39mndarray, count)\n",
      "File \u001B[1;32m~\\Documents\\GitHub\\GoIT_Python_Course\\venv\\Lib\\site-packages\\pandas\\core\\nanops.py:1686\u001B[0m, in \u001B[0;36m_ensure_numeric\u001B[1;34m(x)\u001B[0m\n\u001B[0;32m   1683\u001B[0m inferred \u001B[38;5;241m=\u001B[39m lib\u001B[38;5;241m.\u001B[39minfer_dtype(x)\n\u001B[0;32m   1684\u001B[0m \u001B[38;5;28;01mif\u001B[39;00m inferred \u001B[38;5;129;01min\u001B[39;00m [\u001B[38;5;124m\"\u001B[39m\u001B[38;5;124mstring\u001B[39m\u001B[38;5;124m\"\u001B[39m, \u001B[38;5;124m\"\u001B[39m\u001B[38;5;124mmixed\u001B[39m\u001B[38;5;124m\"\u001B[39m]:\n\u001B[0;32m   1685\u001B[0m     \u001B[38;5;66;03m# GH#44008, GH#36703 avoid casting e.g. strings to numeric\u001B[39;00m\n\u001B[1;32m-> 1686\u001B[0m     \u001B[38;5;28;01mraise\u001B[39;00m \u001B[38;5;167;01mTypeError\u001B[39;00m(\u001B[38;5;124mf\u001B[39m\u001B[38;5;124m\"\u001B[39m\u001B[38;5;124mCould not convert \u001B[39m\u001B[38;5;132;01m{\u001B[39;00mx\u001B[38;5;132;01m}\u001B[39;00m\u001B[38;5;124m to numeric\u001B[39m\u001B[38;5;124m\"\u001B[39m)\n\u001B[0;32m   1687\u001B[0m \u001B[38;5;28;01mtry\u001B[39;00m:\n\u001B[0;32m   1688\u001B[0m     x \u001B[38;5;241m=\u001B[39m x\u001B[38;5;241m.\u001B[39mastype(np\u001B[38;5;241m.\u001B[39mcomplex128)\n",
      "\u001B[1;31mTypeError\u001B[0m: Could not convert ['КримВінницькаВолинськаДніпропетровськаДонецькаЖитомирськаЗакарпатськаЗапорізькаІвано-ФранківськаКиївськаКіровоградськаЛуганськаЛьвівськаМиколаївськаОдеськаПолтавськаРівненськаСумськаТернопільськаХарківськаХерсонськаХмельницькаЧеркаськаЧернівецькаЧернігівськаКиївСевастополь'] to numeric"
     ]
    }
   ],
   "source": [
    "# replace all the missing values with mean values across all the corresponding columns\n",
    "df.fillna(df.mean(), inplace=True)"
   ],
   "metadata": {
    "collapsed": false,
    "ExecuteTime": {
     "end_time": "2024-03-10T15:11:31.841514Z",
     "start_time": "2024-03-10T15:11:31.711508Z"
    }
   },
   "id": "b72aac3dee682eb0",
   "execution_count": 224
  },
  {
   "cell_type": "code",
   "outputs": [],
   "source": [],
   "metadata": {
    "collapsed": false
   },
   "id": "8c00abc21c117612",
   "execution_count": null
  }
 ],
 "metadata": {
  "kernelspec": {
   "display_name": "Python 3",
   "language": "python",
   "name": "python3"
  },
  "language_info": {
   "codemirror_mode": {
    "name": "ipython",
    "version": 2
   },
   "file_extension": ".py",
   "mimetype": "text/x-python",
   "name": "python",
   "nbconvert_exporter": "python",
   "pygments_lexer": "ipython2",
   "version": "2.7.6"
  }
 },
 "nbformat": 4,
 "nbformat_minor": 5
}
