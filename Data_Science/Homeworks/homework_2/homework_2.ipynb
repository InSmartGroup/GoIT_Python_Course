{
 "cells": [
  {
   "cell_type": "markdown",
   "source": [
    "# Homework 2"
   ],
   "metadata": {
    "collapsed": false
   },
   "id": "9592de507b940e4f"
  },
  {
   "cell_type": "code",
   "outputs": [],
   "source": [
    "import pandas as pd\n",
    "import numpy as np\n",
    "import matplotlib.pyplot as plt"
   ],
   "metadata": {
    "collapsed": false,
    "ExecuteTime": {
     "end_time": "2024-02-12T21:28:29.791143300Z",
     "start_time": "2024-02-12T21:28:29.745526Z"
    }
   },
   "id": "59f346972b45b816",
   "execution_count": 121
  },
  {
   "cell_type": "code",
   "outputs": [
    {
     "data": {
      "text/plain": "              Регіон  1950  1960  1970  1990  2000  2012  2014  2019\n0               Крим  23.0  20.6  16.0  13.0   7.3  12.6     —     —\n1          Вінницька  22.4  19.2  14.2  12.4   8.4  11.2  10.9   7.6\n2          Волинська  24.7  25.0  17.9  15.3  11.2  14.8  14.1  10.1\n3   Дніпропетровська  20.4  20.4  15.1  12.3   7.1  11.2  11.1   7.1\n4           Донецька  27.1  21.4  14.0  10.9   6.1   9.8   8.2     —\n5        Житомирська  26.1  22.3  15.9  12.9   8.9  12.2  12.0   7.9\n6       Закарпатська  31.4  27.3  20.7  16.8  11.5  15.1  14.6  10.4\n7         Запорізька  21.9  19.7  15.0  12.4   7.1  10.6  10.6   6.8\n8  Івано-Франківська  24.3  24.8  18.2  15.5  10.3  12.4  12.2   8.8\n9           Київська  20.4  18.9  15.6  12.3   7.3  12.2  12.1   8.0",
      "text/html": "<div>\n<style scoped>\n    .dataframe tbody tr th:only-of-type {\n        vertical-align: middle;\n    }\n\n    .dataframe tbody tr th {\n        vertical-align: top;\n    }\n\n    .dataframe thead th {\n        text-align: right;\n    }\n</style>\n<table border=\"1\" class=\"dataframe\">\n  <thead>\n    <tr style=\"text-align: right;\">\n      <th></th>\n      <th>Регіон</th>\n      <th>1950</th>\n      <th>1960</th>\n      <th>1970</th>\n      <th>1990</th>\n      <th>2000</th>\n      <th>2012</th>\n      <th>2014</th>\n      <th>2019</th>\n    </tr>\n  </thead>\n  <tbody>\n    <tr>\n      <th>0</th>\n      <td>Крим</td>\n      <td>23.0</td>\n      <td>20.6</td>\n      <td>16.0</td>\n      <td>13.0</td>\n      <td>7.3</td>\n      <td>12.6</td>\n      <td>—</td>\n      <td>—</td>\n    </tr>\n    <tr>\n      <th>1</th>\n      <td>Вінницька</td>\n      <td>22.4</td>\n      <td>19.2</td>\n      <td>14.2</td>\n      <td>12.4</td>\n      <td>8.4</td>\n      <td>11.2</td>\n      <td>10.9</td>\n      <td>7.6</td>\n    </tr>\n    <tr>\n      <th>2</th>\n      <td>Волинська</td>\n      <td>24.7</td>\n      <td>25.0</td>\n      <td>17.9</td>\n      <td>15.3</td>\n      <td>11.2</td>\n      <td>14.8</td>\n      <td>14.1</td>\n      <td>10.1</td>\n    </tr>\n    <tr>\n      <th>3</th>\n      <td>Дніпропетровська</td>\n      <td>20.4</td>\n      <td>20.4</td>\n      <td>15.1</td>\n      <td>12.3</td>\n      <td>7.1</td>\n      <td>11.2</td>\n      <td>11.1</td>\n      <td>7.1</td>\n    </tr>\n    <tr>\n      <th>4</th>\n      <td>Донецька</td>\n      <td>27.1</td>\n      <td>21.4</td>\n      <td>14.0</td>\n      <td>10.9</td>\n      <td>6.1</td>\n      <td>9.8</td>\n      <td>8.2</td>\n      <td>—</td>\n    </tr>\n    <tr>\n      <th>5</th>\n      <td>Житомирська</td>\n      <td>26.1</td>\n      <td>22.3</td>\n      <td>15.9</td>\n      <td>12.9</td>\n      <td>8.9</td>\n      <td>12.2</td>\n      <td>12.0</td>\n      <td>7.9</td>\n    </tr>\n    <tr>\n      <th>6</th>\n      <td>Закарпатська</td>\n      <td>31.4</td>\n      <td>27.3</td>\n      <td>20.7</td>\n      <td>16.8</td>\n      <td>11.5</td>\n      <td>15.1</td>\n      <td>14.6</td>\n      <td>10.4</td>\n    </tr>\n    <tr>\n      <th>7</th>\n      <td>Запорізька</td>\n      <td>21.9</td>\n      <td>19.7</td>\n      <td>15.0</td>\n      <td>12.4</td>\n      <td>7.1</td>\n      <td>10.6</td>\n      <td>10.6</td>\n      <td>6.8</td>\n    </tr>\n    <tr>\n      <th>8</th>\n      <td>Івано-Франківська</td>\n      <td>24.3</td>\n      <td>24.8</td>\n      <td>18.2</td>\n      <td>15.5</td>\n      <td>10.3</td>\n      <td>12.4</td>\n      <td>12.2</td>\n      <td>8.8</td>\n    </tr>\n    <tr>\n      <th>9</th>\n      <td>Київська</td>\n      <td>20.4</td>\n      <td>18.9</td>\n      <td>15.6</td>\n      <td>12.3</td>\n      <td>7.3</td>\n      <td>12.2</td>\n      <td>12.1</td>\n      <td>8.0</td>\n    </tr>\n  </tbody>\n</table>\n</div>"
     },
     "execution_count": 122,
     "metadata": {},
     "output_type": "execute_result"
    }
   ],
   "source": [
    "# specify the URL\n",
    "URL = \"https://uk.wikipedia.org/wiki/%D0%9D%D0%B0%D1%81%D0%B5%D0%BB%D0%B5%D0%BD%D0%BD%D1%8F_%D0%A3%D0%BA%D1%80%D0%B0%D1%97%D0%BD%D0%B8\"\n",
    "\n",
    "# read the HTML, get rid of the \",\" sign in the original sheet\n",
    "data = pd.read_html(URL, match=\"Регіон\", thousands=\".\", decimal=\",\")\n",
    "\n",
    "# select the desired sheet and convert it to DataFrame\n",
    "df = pd.DataFrame(data[0])\n",
    "\n",
    "# display the converted sheet\n",
    "df.head(10)"
   ],
   "metadata": {
    "collapsed": false,
    "ExecuteTime": {
     "end_time": "2024-02-12T21:28:30.652974500Z",
     "start_time": "2024-02-12T21:28:29.798675Z"
    }
   },
   "id": "1b776d814eaf0683",
   "execution_count": 122
  },
  {
   "cell_type": "code",
   "outputs": [
    {
     "data": {
      "text/plain": "(28, 9)"
     },
     "execution_count": 123,
     "metadata": {},
     "output_type": "execute_result"
    }
   ],
   "source": [
    "# check the shape of the sheet\n",
    "df.shape  # 28 rows by 9 columns"
   ],
   "metadata": {
    "collapsed": false,
    "ExecuteTime": {
     "end_time": "2024-02-12T21:28:30.692621700Z",
     "start_time": "2024-02-12T21:28:30.656196300Z"
    }
   },
   "id": "d9347011071c5d72",
   "execution_count": 123
  },
  {
   "cell_type": "code",
   "outputs": [
    {
     "data": {
      "text/plain": "             Регіон  1950  1960  1970  1990  2000  2012  2014  2019\n0              Крим  23.0  20.6  16.0  13.0   7.3  12.6   NaN   NaN\n1         Вінницька  22.4  19.2  14.2  12.4   8.4  11.2  10.9   7.6\n2         Волинська  24.7  25.0  17.9  15.3  11.2  14.8  14.1  10.1\n3  Дніпропетровська  20.4  20.4  15.1  12.3   7.1  11.2  11.1   7.1\n4          Донецька  27.1  21.4  14.0  10.9   6.1   9.8   8.2   NaN",
      "text/html": "<div>\n<style scoped>\n    .dataframe tbody tr th:only-of-type {\n        vertical-align: middle;\n    }\n\n    .dataframe tbody tr th {\n        vertical-align: top;\n    }\n\n    .dataframe thead th {\n        text-align: right;\n    }\n</style>\n<table border=\"1\" class=\"dataframe\">\n  <thead>\n    <tr style=\"text-align: right;\">\n      <th></th>\n      <th>Регіон</th>\n      <th>1950</th>\n      <th>1960</th>\n      <th>1970</th>\n      <th>1990</th>\n      <th>2000</th>\n      <th>2012</th>\n      <th>2014</th>\n      <th>2019</th>\n    </tr>\n  </thead>\n  <tbody>\n    <tr>\n      <th>0</th>\n      <td>Крим</td>\n      <td>23.0</td>\n      <td>20.6</td>\n      <td>16.0</td>\n      <td>13.0</td>\n      <td>7.3</td>\n      <td>12.6</td>\n      <td>NaN</td>\n      <td>NaN</td>\n    </tr>\n    <tr>\n      <th>1</th>\n      <td>Вінницька</td>\n      <td>22.4</td>\n      <td>19.2</td>\n      <td>14.2</td>\n      <td>12.4</td>\n      <td>8.4</td>\n      <td>11.2</td>\n      <td>10.9</td>\n      <td>7.6</td>\n    </tr>\n    <tr>\n      <th>2</th>\n      <td>Волинська</td>\n      <td>24.7</td>\n      <td>25.0</td>\n      <td>17.9</td>\n      <td>15.3</td>\n      <td>11.2</td>\n      <td>14.8</td>\n      <td>14.1</td>\n      <td>10.1</td>\n    </tr>\n    <tr>\n      <th>3</th>\n      <td>Дніпропетровська</td>\n      <td>20.4</td>\n      <td>20.4</td>\n      <td>15.1</td>\n      <td>12.3</td>\n      <td>7.1</td>\n      <td>11.2</td>\n      <td>11.1</td>\n      <td>7.1</td>\n    </tr>\n    <tr>\n      <th>4</th>\n      <td>Донецька</td>\n      <td>27.1</td>\n      <td>21.4</td>\n      <td>14.0</td>\n      <td>10.9</td>\n      <td>6.1</td>\n      <td>9.8</td>\n      <td>8.2</td>\n      <td>NaN</td>\n    </tr>\n  </tbody>\n</table>\n</div>"
     },
     "execution_count": 124,
     "metadata": {},
     "output_type": "execute_result"
    }
   ],
   "source": [
    "# change the \"—\" sign to \"NaN\"\n",
    "df = df.replace(\"—\", np.nan)\n",
    "df.head()"
   ],
   "metadata": {
    "collapsed": false,
    "ExecuteTime": {
     "end_time": "2024-02-12T21:28:30.769082100Z",
     "start_time": "2024-02-12T21:28:30.680688100Z"
    }
   },
   "id": "ac6d644af138dab5",
   "execution_count": 124
  },
  {
   "cell_type": "code",
   "outputs": [],
   "source": [],
   "metadata": {
    "collapsed": false,
    "ExecuteTime": {
     "end_time": "2024-02-12T21:28:30.790159400Z",
     "start_time": "2024-02-12T21:28:30.715643700Z"
    }
   },
   "id": "4b539e25f4b08eb0",
   "execution_count": 124
  }
 ],
 "metadata": {
  "kernelspec": {
   "display_name": "Python 3",
   "language": "python",
   "name": "python3"
  },
  "language_info": {
   "codemirror_mode": {
    "name": "ipython",
    "version": 2
   },
   "file_extension": ".py",
   "mimetype": "text/x-python",
   "name": "python",
   "nbconvert_exporter": "python",
   "pygments_lexer": "ipython2",
   "version": "2.7.6"
  }
 },
 "nbformat": 4,
 "nbformat_minor": 5
}
