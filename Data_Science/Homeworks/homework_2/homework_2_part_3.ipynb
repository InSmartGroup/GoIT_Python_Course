{
 "cells": [
  {
   "cell_type": "markdown",
   "source": [
    "# Homework 2, Part 3"
   ],
   "metadata": {
    "collapsed": false
   },
   "id": "165be314a4affe7"
  },
  {
   "cell_type": "code",
   "outputs": [],
   "source": [
    "import pandas as pd\n",
    "import numpy as np\n",
    "import matplotlib.pyplot as plt"
   ],
   "metadata": {
    "collapsed": false,
    "ExecuteTime": {
     "end_time": "2024-03-10T15:34:22.274205Z",
     "start_time": "2024-03-10T15:34:22.269592Z"
    }
   },
   "id": "c1ad6662a3d48438",
   "execution_count": 2
  },
  {
   "cell_type": "code",
   "outputs": [
    {
     "data": {
      "text/plain": "                                                Name  \\\n0                      10-Day Green Smoothie Cleanse   \n1                                  11/22/63: A Novel   \n2            12 Rules for Life: An Antidote to Chaos   \n3                             1984 (Signet Classics)   \n4  5,000 Awesome Facts (About Everything!) (Natio...   \n5      A Dance with Dragons (A Song of Ice and Fire)   \n6  A Game of Thrones / A Clash of Kings / A Storm...   \n7                     A Gentleman in Moscow: A Novel   \n8      A Higher Loyalty: Truth, Lies, and Leadership   \n9                          A Man Called Ove: A Novel   \n\n                     Author  User Rating  Reviews  Price  Year        Genre  \n0                  JJ Smith          4.7    17350      8  2016  Non Fiction  \n1              Stephen King          4.6     2052     22  2011      Fiction  \n2        Jordan B. Peterson          4.7    18979     15  2018  Non Fiction  \n3             George Orwell          4.7    21424      6  2017      Fiction  \n4  National Geographic Kids          4.8     7665     12  2019  Non Fiction  \n5       George R. R. Martin          4.4    12643     11  2011      Fiction  \n6       George R. R. Martin          4.7    19735     30  2014      Fiction  \n7               Amor Towles          4.7    19699     15  2017      Fiction  \n8               James Comey          4.7     5983      3  2018  Non Fiction  \n9           Fredrik Backman          4.6    23848      8  2016      Fiction  ",
      "text/html": "<div>\n<style scoped>\n    .dataframe tbody tr th:only-of-type {\n        vertical-align: middle;\n    }\n\n    .dataframe tbody tr th {\n        vertical-align: top;\n    }\n\n    .dataframe thead th {\n        text-align: right;\n    }\n</style>\n<table border=\"1\" class=\"dataframe\">\n  <thead>\n    <tr style=\"text-align: right;\">\n      <th></th>\n      <th>Name</th>\n      <th>Author</th>\n      <th>User Rating</th>\n      <th>Reviews</th>\n      <th>Price</th>\n      <th>Year</th>\n      <th>Genre</th>\n    </tr>\n  </thead>\n  <tbody>\n    <tr>\n      <th>0</th>\n      <td>10-Day Green Smoothie Cleanse</td>\n      <td>JJ Smith</td>\n      <td>4.7</td>\n      <td>17350</td>\n      <td>8</td>\n      <td>2016</td>\n      <td>Non Fiction</td>\n    </tr>\n    <tr>\n      <th>1</th>\n      <td>11/22/63: A Novel</td>\n      <td>Stephen King</td>\n      <td>4.6</td>\n      <td>2052</td>\n      <td>22</td>\n      <td>2011</td>\n      <td>Fiction</td>\n    </tr>\n    <tr>\n      <th>2</th>\n      <td>12 Rules for Life: An Antidote to Chaos</td>\n      <td>Jordan B. Peterson</td>\n      <td>4.7</td>\n      <td>18979</td>\n      <td>15</td>\n      <td>2018</td>\n      <td>Non Fiction</td>\n    </tr>\n    <tr>\n      <th>3</th>\n      <td>1984 (Signet Classics)</td>\n      <td>George Orwell</td>\n      <td>4.7</td>\n      <td>21424</td>\n      <td>6</td>\n      <td>2017</td>\n      <td>Fiction</td>\n    </tr>\n    <tr>\n      <th>4</th>\n      <td>5,000 Awesome Facts (About Everything!) (Natio...</td>\n      <td>National Geographic Kids</td>\n      <td>4.8</td>\n      <td>7665</td>\n      <td>12</td>\n      <td>2019</td>\n      <td>Non Fiction</td>\n    </tr>\n    <tr>\n      <th>5</th>\n      <td>A Dance with Dragons (A Song of Ice and Fire)</td>\n      <td>George R. R. Martin</td>\n      <td>4.4</td>\n      <td>12643</td>\n      <td>11</td>\n      <td>2011</td>\n      <td>Fiction</td>\n    </tr>\n    <tr>\n      <th>6</th>\n      <td>A Game of Thrones / A Clash of Kings / A Storm...</td>\n      <td>George R. R. Martin</td>\n      <td>4.7</td>\n      <td>19735</td>\n      <td>30</td>\n      <td>2014</td>\n      <td>Fiction</td>\n    </tr>\n    <tr>\n      <th>7</th>\n      <td>A Gentleman in Moscow: A Novel</td>\n      <td>Amor Towles</td>\n      <td>4.7</td>\n      <td>19699</td>\n      <td>15</td>\n      <td>2017</td>\n      <td>Fiction</td>\n    </tr>\n    <tr>\n      <th>8</th>\n      <td>A Higher Loyalty: Truth, Lies, and Leadership</td>\n      <td>James Comey</td>\n      <td>4.7</td>\n      <td>5983</td>\n      <td>3</td>\n      <td>2018</td>\n      <td>Non Fiction</td>\n    </tr>\n    <tr>\n      <th>9</th>\n      <td>A Man Called Ove: A Novel</td>\n      <td>Fredrik Backman</td>\n      <td>4.6</td>\n      <td>23848</td>\n      <td>8</td>\n      <td>2016</td>\n      <td>Fiction</td>\n    </tr>\n  </tbody>\n</table>\n</div>"
     },
     "execution_count": 3,
     "metadata": {},
     "output_type": "execute_result"
    }
   ],
   "source": [
    "# read the Kaggle csv file\n",
    "df = pd.read_csv(\"bestsellers with categories.csv\")\n",
    "\n",
    "df.head(10)"
   ],
   "metadata": {
    "collapsed": false,
    "ExecuteTime": {
     "end_time": "2024-03-10T20:33:00.341091Z",
     "start_time": "2024-03-10T20:33:00.229531Z"
    }
   },
   "id": "833b9a0c642c9fa1",
   "execution_count": 3
  },
  {
   "cell_type": "code",
   "outputs": [
    {
     "name": "stdout",
     "output_type": "stream",
     "text": [
      "DF shape: (550, 7)\n"
     ]
    }
   ],
   "source": [
    "# check the shape of the DF\n",
    "print(f\"DF shape: {df.shape}\")  # 550 rows by 7 columns"
   ],
   "metadata": {
    "collapsed": false,
    "ExecuteTime": {
     "end_time": "2024-03-10T20:33:39.372Z",
     "start_time": "2024-03-10T20:33:39.365590Z"
    }
   },
   "id": "f0cf3ec735e87843",
   "execution_count": 4
  },
  {
   "cell_type": "code",
   "outputs": [
    {
     "name": "stdout",
     "output_type": "stream",
     "text": [
      "Index(['name', 'author', 'user_rating', 'reviews', 'price', 'year', 'genre'], dtype='object')\n",
      "Index(['name', 'author', 'user_rating', 'reviews', 'price', 'year', 'genre'], dtype='object')\n"
     ]
    }
   ],
   "source": [
    "# get column names\n",
    "print(df.columns)\n",
    "\n",
    "# change column names and check the result\n",
    "df.columns = [\"name\", \"author\", \"user_rating\", \"reviews\", \"price\", \"year\", \"genre\"]\n",
    "\n",
    "print(df.columns)"
   ],
   "metadata": {
    "collapsed": false,
    "ExecuteTime": {
     "end_time": "2024-03-10T20:37:22.829759Z",
     "start_time": "2024-03-10T20:37:22.821652Z"
    }
   },
   "id": "e52cc8a6ccdccb08",
   "execution_count": 11
  },
  {
   "cell_type": "code",
   "outputs": [
    {
     "data": {
      "text/plain": "name           0\nauthor         0\nuser_rating    0\nreviews        0\nprice          0\nyear           0\ngenre          0\ndtype: int64"
     },
     "execution_count": 13,
     "metadata": {},
     "output_type": "execute_result"
    }
   ],
   "source": [
    "# check if the DF has missing values\n",
    "df.isna().sum()"
   ],
   "metadata": {
    "collapsed": false,
    "ExecuteTime": {
     "end_time": "2024-03-10T20:38:28.857231Z",
     "start_time": "2024-03-10T20:38:28.847331Z"
    }
   },
   "id": "335ad6b582d5c312",
   "execution_count": 13
  },
  {
   "cell_type": "code",
   "outputs": [
    {
     "data": {
      "text/plain": "array(['Non Fiction', 'Fiction'], dtype=object)"
     },
     "execution_count": 14,
     "metadata": {},
     "output_type": "execute_result"
    }
   ],
   "source": [
    "# check unique values in the genre column\n",
    "df[\"genre\"].unique()"
   ],
   "metadata": {
    "collapsed": false,
    "ExecuteTime": {
     "end_time": "2024-03-10T20:40:08.879617Z",
     "start_time": "2024-03-10T20:40:08.871848Z"
    }
   },
   "id": "362875bc5413cfcd",
   "execution_count": 14
  },
  {
   "cell_type": "code",
   "outputs": [
    {
     "name": "stdout",
     "output_type": "stream",
     "text": [
      "Min price: 0\n",
      "Max price: 105\n",
      "Average price: 13.1\n",
      "Median price: 11.0\n"
     ]
    }
   ],
   "source": [
    "# define min, max, mean, and median prices\n",
    "print(f\"Min price: {df[\"price\"].min()}\")\n",
    "print(f\"Max price: {df[\"price\"].max()}\")\n",
    "print(f\"Average price: {df[\"price\"].mean()}\")\n",
    "print(f\"Median price: {df[\"price\"].median()}\")"
   ],
   "metadata": {
    "collapsed": false,
    "ExecuteTime": {
     "end_time": "2024-03-10T20:42:26.358322Z",
     "start_time": "2024-03-10T20:42:26.349227Z"
    }
   },
   "id": "13de9d9225accf43",
   "execution_count": 17
  },
  {
   "cell_type": "code",
   "outputs": [
    {
     "data": {
      "text/plain": "<Figure size 640x480 with 1 Axes>",
      "image/png": "[encoded data removed]"
     },
     "metadata": {},
     "output_type": "display_data"
    }
   ],
   "source": [
    "# build a price histogram\n",
    "plt.title(\"Price, USD\")\n",
    "plt.grid(True)\n",
    "\n",
    "plt.hist(df[\"price\"])\n",
    "plt.show()"
   ],
   "metadata": {
    "collapsed": false,
    "ExecuteTime": {
     "end_time": "2024-03-10T20:45:55.513239Z",
     "start_time": "2024-03-10T20:45:55.361850Z"
    }
   },
   "id": "9ff1456524fc77d5",
   "execution_count": 21
  },
  {
   "cell_type": "code",
   "outputs": [
    {
     "name": "stdout",
     "output_type": "stream",
     "text": [
      "Highest rating: 4.9\n"
     ]
    }
   ],
   "source": [
    "# define the highest user rating\n",
    "print(f\"Highest rating: {df[\"user_rating\"].max()}\")"
   ],
   "metadata": {
    "collapsed": false,
    "ExecuteTime": {
     "end_time": "2024-03-10T20:46:47.436526Z",
     "start_time": "2024-03-10T20:46:47.431320Z"
    }
   },
   "id": "447c2b561acc8426",
   "execution_count": 22
  },
  {
   "cell_type": "code",
   "outputs": [
    {
     "name": "stdout",
     "output_type": "stream",
     "text": [
      "52 books have the user rating of 4.9\n"
     ]
    }
   ],
   "source": [
    "# how many books have such a rating\n",
    "print(f\"{df[df.user_rating == 4.9].shape[0]} books have the user rating of {df[\"user_rating\"].max()}\")"
   ],
   "metadata": {
    "collapsed": false,
    "ExecuteTime": {
     "end_time": "2024-03-10T20:55:27.509708Z",
     "start_time": "2024-03-10T20:55:27.501668Z"
    }
   },
   "id": "1bad9c8519eef932",
   "execution_count": 37
  },
  {
   "cell_type": "code",
   "outputs": [],
   "source": [],
   "metadata": {
    "collapsed": false
   },
   "id": "cefe8797b6a3358e"
  }
 ],
 "metadata": {
  "kernelspec": {
   "display_name": "Python 3",
   "language": "python",
   "name": "python3"
  },
  "language_info": {
   "codemirror_mode": {
    "name": "ipython",
    "version": 2
   },
   "file_extension": ".py",
   "mimetype": "text/x-python",
   "name": "python",
   "nbconvert_exporter": "python",
   "pygments_lexer": "ipython2",
   "version": "2.7.6"
  }
 },
 "nbformat": 4,
 "nbformat_minor": 5
}
